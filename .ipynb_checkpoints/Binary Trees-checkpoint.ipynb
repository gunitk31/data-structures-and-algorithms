{
 "cells": [
  {
   "cell_type": "code",
   "execution_count": 57,
   "id": "9ee4e996-165e-498b-a107-2c28d2625c07",
   "metadata": {},
   "outputs": [
    {
     "name": "stdout",
     "output_type": "stream",
     "text": [
      "CEO\n",
      "├── Manager 1\n",
      "│   ├── Employee 1\n",
      "│   └── Employee 2\n",
      "└── Manager 2\n",
      "    ├── Employee 3\n",
      "    └── Employee 4\n"
     ]
    }
   ],
   "source": [
    "from anytree import Node, RenderTree\n",
    "\n",
    "ceo = Node(\"CEO\")\n",
    "manager1 = Node(\"Manager 1\", parent=ceo)\n",
    "manager2 = Node(\"Manager 2\", parent=ceo)\n",
    "employee1 = Node(\"Employee 1\", parent=manager1)\n",
    "employee2 = Node(\"Employee 2\", parent=manager1)\n",
    "employee3 = Node(\"Employee 3\", parent=manager2)\n",
    "employee4 = Node(\"Employee 4\", parent=manager2)\n",
    "\n",
    "for pre, fill, node in RenderTree(ceo):\n",
    "    print(\"%s%s\" % (pre, node.name))\n",
    "\n"
   ]
  },
  {
   "cell_type": "code",
   "execution_count": 91,
   "id": "2c091b43-7e4b-4875-bbe7-94e707e77c68",
   "metadata": {},
   "outputs": [],
   "source": [
    "import pdb"
   ]
  },
  {
   "cell_type": "code",
   "execution_count": 63,
   "id": "e454aae9-d80f-4083-bed8-8e9b2a190702",
   "metadata": {},
   "outputs": [
    {
     "ename": "AttributeError",
     "evalue": "'Node' object has no attribute 'employee4'",
     "output_type": "error",
     "traceback": [
      "\u001b[1;31m---------------------------------------------------------------------------\u001b[0m",
      "\u001b[1;31mAttributeError\u001b[0m                            Traceback (most recent call last)",
      "Cell \u001b[1;32mIn[63], line 1\u001b[0m\n\u001b[1;32m----> 1\u001b[0m \u001b[38;5;28mprint\u001b[39m(\u001b[38;5;28mlen\u001b[39m(ceo\u001b[38;5;241m.\u001b[39memployee4))\n",
      "\u001b[1;31mAttributeError\u001b[0m: 'Node' object has no attribute 'employee4'"
     ]
    }
   ],
   "source": [
    "print(len(ceo.employee4))"
   ]
  },
  {
   "cell_type": "code",
   "execution_count": 15,
   "id": "b01c5ae4-9dce-4f57-b68b-2aedfdf13e68",
   "metadata": {},
   "outputs": [],
   "source": [
    "class Node:\n",
    "    \n",
    "    def __init__(self, data):\n",
    "        self.data = data\n",
    "        self.children = None"
   ]
  },
  {
   "cell_type": "code",
   "execution_count": 83,
   "id": "ec35eb66-f399-452e-99fe-17012d83b98b",
   "metadata": {},
   "outputs": [],
   "source": [
    "class BinaryTree:\n",
    "\n",
    "    def __init__(self):\n",
    "        self.root = None\n",
    "        self.preorder_queue = None\n",
    "\n",
    "    def __str__(self):\n",
    "        preorder_traversal = [str(element.name) for element in self.preorder_queue]\n",
    "        return \" ------- \".join(preorder_traversal)\n",
    "\n",
    "    def insert_node(self, data):\n",
    "\n",
    "        pdb.set_trace()\n",
    "        \n",
    "        if self.root is None:\n",
    "            node = Node(data)\n",
    "            self.root = node\n",
    "            self.preorder_queue = [node]\n",
    "        else:\n",
    "            for element in self.preorder_queue:\n",
    "                if element.children is None or len(element.children) == 1:\n",
    "                    node = Node(data, parent=element)\n",
    "                    self.preorder_queue.append(node)\n",
    "\n",
    "    def show_tree(self):        \n",
    "        for pre, fill, node in RenderTree(self.root):\n",
    "            print(\"%s%s\" % (pre, node.name))"
   ]
  },
  {
   "cell_type": "code",
   "execution_count": 85,
   "id": "0584e1cc-c1a1-4370-b3f0-fc8e7cc632a0",
   "metadata": {},
   "outputs": [],
   "source": [
    "btree = BinaryTree()"
   ]
  },
  {
   "cell_type": "code",
   "execution_count": 87,
   "id": "7bf0a558-4318-48c4-83e9-3726c9b2bed6",
   "metadata": {},
   "outputs": [],
   "source": [
    "btree.insert_node(5)\n",
    "btree.insert_node(6)\n",
    "btree.insert_node(7)\n",
    "btree.insert_node(8)\n",
    "btree.insert_node(9)"
   ]
  },
  {
   "cell_type": "code",
   "execution_count": 89,
   "id": "62f111a1-8807-47db-b4c4-033338ce5c57",
   "metadata": {},
   "outputs": [
    {
     "name": "stdout",
     "output_type": "stream",
     "text": [
      "5\n"
     ]
    }
   ],
   "source": [
    "print(btree)"
   ]
  },
  {
   "cell_type": "code",
   "execution_count": 73,
   "id": "61018925-f366-49e2-bb4c-c9f5e39de397",
   "metadata": {},
   "outputs": [
    {
     "name": "stdout",
     "output_type": "stream",
     "text": [
      "5\n"
     ]
    }
   ],
   "source": [
    "btree.show_tree()"
   ]
  },
  {
   "cell_type": "code",
   "execution_count": 71,
   "id": "47fb17d3-4fb2-4c90-9790-07a4d3af00c9",
   "metadata": {},
   "outputs": [
    {
     "ename": "AttributeError",
     "evalue": "'Node' object has no attribute 'data'",
     "output_type": "error",
     "traceback": [
      "\u001b[1;31m---------------------------------------------------------------------------\u001b[0m",
      "\u001b[1;31mAttributeError\u001b[0m                            Traceback (most recent call last)",
      "Cell \u001b[1;32mIn[71], line 1\u001b[0m\n\u001b[1;32m----> 1\u001b[0m \u001b[38;5;28mprint\u001b[39m(btree)\n",
      "Cell \u001b[1;32mIn[65], line 8\u001b[0m, in \u001b[0;36mBinaryTree.__str__\u001b[1;34m(self)\u001b[0m\n\u001b[0;32m      7\u001b[0m \u001b[38;5;28;01mdef\u001b[39;00m \u001b[38;5;21m__str__\u001b[39m(\u001b[38;5;28mself\u001b[39m):\n\u001b[1;32m----> 8\u001b[0m     preorder_traversal \u001b[38;5;241m=\u001b[39m [\u001b[38;5;28mstr\u001b[39m(element\u001b[38;5;241m.\u001b[39mdata) \u001b[38;5;28;01mfor\u001b[39;00m element \u001b[38;5;129;01min\u001b[39;00m \u001b[38;5;28mself\u001b[39m\u001b[38;5;241m.\u001b[39mpreorder_queue]\n\u001b[0;32m      9\u001b[0m     \u001b[38;5;28;01mreturn\u001b[39;00m \u001b[38;5;124m\"\u001b[39m\u001b[38;5;124m ------- \u001b[39m\u001b[38;5;124m\"\u001b[39m\u001b[38;5;241m.\u001b[39mjoin(preorder_traversal)\n",
      "\u001b[1;31mAttributeError\u001b[0m: 'Node' object has no attribute 'data'"
     ]
    }
   ],
   "source": [
    "print(btree)"
   ]
  },
  {
   "cell_type": "code",
   "execution_count": null,
   "id": "98339d2c-aeec-42ad-ae1e-87224feb33ee",
   "metadata": {},
   "outputs": [],
   "source": []
  }
 ],
 "metadata": {
  "kernelspec": {
   "display_name": "Python 3 (ipykernel)",
   "language": "python",
   "name": "python3"
  },
  "language_info": {
   "codemirror_mode": {
    "name": "ipython",
    "version": 3
   },
   "file_extension": ".py",
   "mimetype": "text/x-python",
   "name": "python",
   "nbconvert_exporter": "python",
   "pygments_lexer": "ipython3",
   "version": "3.12.3"
  }
 },
 "nbformat": 4,
 "nbformat_minor": 5
}
