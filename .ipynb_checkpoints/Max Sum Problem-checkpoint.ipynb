{
 "cells": [
  {
   "cell_type": "markdown",
   "id": "5e9f6087-62f2-4602-aadb-f557ab83310d",
   "metadata": {},
   "source": [
    "# Solving the Max Sum Problem"
   ]
  },
  {
   "cell_type": "markdown",
   "id": "efe0486a-3031-4b32-869a-a4787bf210fd",
   "metadata": {},
   "source": [
    "## Problem Statement\n",
    "Given a list and a window size, find all possible combinations of sub-lists within the list whose size is the same as window size and whose sum is the highest of all other sub-lists. "
   ]
  },
  {
   "cell_type": "markdown",
   "id": "e5e73724-b305-407d-9b60-0c071997c44a",
   "metadata": {},
   "source": [
    "## Solutions"
   ]
  },
  {
   "cell_type": "markdown",
   "id": "a6d69652-09cb-4878-a337-c801b37ef0fb",
   "metadata": {},
   "source": [
    "This problem can be solved in 2 ways.\n",
    "1. The <b>Brute Force Technique</b>, where we scan the entire list to identify all possible sublists and determine their sum.\n",
    "2. The <b>Sliding Window Technique</b>, where we add and remove the one element into the sub-list at a time and also update the sum accordingly.  "
   ]
  },
  {
   "cell_type": "code",
   "execution_count": 40,
   "id": "da02a6ed-67ea-4d5c-94e2-22c76376ecdf",
   "metadata": {},
   "outputs": [],
   "source": [
    "a = [1,29,3,36,5,7,8,42,11,28,12,22,13,32,17,20,21,24,25]"
   ]
  },
  {
   "cell_type": "code",
   "execution_count": 77,
   "id": "8c920132-ae9d-40ea-b512-effa4be39fbe",
   "metadata": {},
   "outputs": [
    {
     "data": {
      "text/plain": [
       "20"
      ]
     },
     "execution_count": 77,
     "metadata": {},
     "output_type": "execute_result"
    }
   ],
   "source": [
    "a[15]"
   ]
  },
  {
   "cell_type": "markdown",
   "id": "f07bb2b7-b92e-409a-a4c3-eb914a34647c",
   "metadata": {},
   "source": [
    "### Brute Force Technique"
   ]
  },
  {
   "cell_type": "code",
   "execution_count": 51,
   "id": "365d6030-bdb4-43fa-a8ed-401c19e7384f",
   "metadata": {},
   "outputs": [],
   "source": [
    "def max_sum_problem_bf(array, window = 4):\n",
    "    i = 0\n",
    "    j = window\n",
    "\n",
    "    current_sum = sum(array[i:j])\n",
    "\n",
    "    max_sum = current_sum\n",
    "    max_sum_i = i\n",
    "    max_sum_j = j\n",
    "\n",
    "    while j <= len(array):\n",
    "        \n",
    "        i += 1\n",
    "        j += 1\n",
    "        \n",
    "        current_sum = sum(array[i:j])\n",
    "        if current_sum > max_sum:\n",
    "            max_sum = current_sum \n",
    "            max_sum_i = i\n",
    "            max_sum_j = j\n",
    "            \n",
    "    return f\"Sub-list with maximum sum is {array[max_sum_i:max_sum_j]} and its sum if {max_sum}\""
   ]
  },
  {
   "cell_type": "code",
   "execution_count": 53,
   "id": "4e2a4849-87bf-4252-9339-c6d2083d2eae",
   "metadata": {},
   "outputs": [
    {
     "data": {
      "text/plain": [
       "'Sub-list with maximum sum is [42, 11, 28, 12] and its sum if 93'"
      ]
     },
     "execution_count": 53,
     "metadata": {},
     "output_type": "execute_result"
    }
   ],
   "source": [
    "max_sum_problem_bf(a, 4)"
   ]
  },
  {
   "cell_type": "code",
   "execution_count": 59,
   "id": "14a990ea-0c8e-4ef0-9f85-f38d9cc5b0b9",
   "metadata": {},
   "outputs": [
    {
     "data": {
      "text/plain": [
       "'Sub-list with maximum sum is [42, 11, 28, 12, 22] and its sum if 115'"
      ]
     },
     "execution_count": 59,
     "metadata": {},
     "output_type": "execute_result"
    }
   ],
   "source": [
    "max_sum_problem_bf(a, 5)"
   ]
  },
  {
   "cell_type": "markdown",
   "id": "760ea00b-4052-435a-ac7b-c19510ab74d3",
   "metadata": {},
   "source": [
    "### Sliding Window Technique"
   ]
  },
  {
   "cell_type": "code",
   "execution_count": 71,
   "id": "7fd087db-9044-468e-af31-85ea36d55e3d",
   "metadata": {},
   "outputs": [],
   "source": [
    "import pdb"
   ]
  },
  {
   "cell_type": "code",
   "execution_count": 160,
   "id": "37f1dd00-dd34-4b6d-aa14-5ebf66d32cad",
   "metadata": {},
   "outputs": [],
   "source": [
    "def max_sum_problem_swt(array, window = 4):\n",
    "    start = 0\n",
    "    end = window - 1\n",
    "\n",
    "    current_sum = sum(array[start:window])\n",
    "\n",
    "    max_sum = current_sum\n",
    "    max_sum_start = start\n",
    "    max_sum_end = end\n",
    "\n",
    "    while end + 1 < len(array):\n",
    "        current_sum -= array[start]\n",
    "        start += 1\n",
    "        end += 1\n",
    "        current_sum += array[end]\n",
    "        if current_sum > max_sum:\n",
    "            max_sum = current_sum \n",
    "            max_sum_start = start\n",
    "            max_sum_end = end + 1\n",
    "            \n",
    "    return f\"Sub-list with maximum sum is {array[max_sum_start:max_sum_end]} and its sum is {max_sum}\""
   ]
  },
  {
   "cell_type": "code",
   "execution_count": 162,
   "id": "ec2f8a22-7c6a-4174-a0c1-27e94c1926da",
   "metadata": {},
   "outputs": [
    {
     "data": {
      "text/plain": [
       "'Sub-list with maximum sum is [42, 11, 28, 12] and its sum is 93'"
      ]
     },
     "execution_count": 162,
     "metadata": {},
     "output_type": "execute_result"
    }
   ],
   "source": [
    "max_sum_problem_swt(a, 4)"
   ]
  },
  {
   "cell_type": "code",
   "execution_count": 164,
   "id": "c248e4eb-3183-4659-b8e6-3b3ad43a0e94",
   "metadata": {},
   "outputs": [
    {
     "data": {
      "text/plain": [
       "'Sub-list with maximum sum is [42, 11, 28, 12, 22] and its sum is 115'"
      ]
     },
     "execution_count": 164,
     "metadata": {},
     "output_type": "execute_result"
    }
   ],
   "source": [
    "max_sum_problem_swt(a, 5)"
   ]
  },
  {
   "cell_type": "markdown",
   "id": "64291a2e-6e64-4157-a81e-4ae4042d1318",
   "metadata": {},
   "source": [
    "### Timing and comparing the 2 techniques to determine which method is more time efficient or has a lower time complexity"
   ]
  },
  {
   "cell_type": "code",
   "execution_count": 167,
   "id": "9996eaa7-839f-4db2-ae5a-95b64fb90988",
   "metadata": {},
   "outputs": [
    {
     "name": "stdout",
     "output_type": "stream",
     "text": [
      "11.3 μs ± 622 ns per loop (mean ± std. dev. of 7 runs, 100,000 loops each)\n"
     ]
    }
   ],
   "source": [
    "%%timeit\n",
    "max_sum_problem_bf(a)"
   ]
  },
  {
   "cell_type": "code",
   "execution_count": 168,
   "id": "32dd70aa-ffa7-414b-ac30-86acd03e0d32",
   "metadata": {},
   "outputs": [
    {
     "name": "stdout",
     "output_type": "stream",
     "text": [
      "6.3 μs ± 220 ns per loop (mean ± std. dev. of 7 runs, 100,000 loops each)\n"
     ]
    }
   ],
   "source": [
    "%%timeit\n",
    "max_sum_problem_swt(a)"
   ]
  }
 ],
 "metadata": {
  "kernelspec": {
   "display_name": "Python 3 (ipykernel)",
   "language": "python",
   "name": "python3"
  },
  "language_info": {
   "codemirror_mode": {
    "name": "ipython",
    "version": 3
   },
   "file_extension": ".py",
   "mimetype": "text/x-python",
   "name": "python",
   "nbconvert_exporter": "python",
   "pygments_lexer": "ipython3",
   "version": "3.12.4"
  }
 },
 "nbformat": 4,
 "nbformat_minor": 5
}
