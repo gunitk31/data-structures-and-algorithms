{
 "cells": [
  {
   "cell_type": "markdown",
   "id": "e9e50099-23fd-42a0-86b4-4db3a0e439e7",
   "metadata": {},
   "source": [
    "# Solving the Two Sum Problem"
   ]
  },
  {
   "cell_type": "markdown",
   "id": "ff2bb5b2-6ce7-43a4-8883-e14ff3f3a659",
   "metadata": {},
   "source": [
    "## Problem Statement\n",
    "Given a list, find 2 numbers in the list whose sum is equal to a target sum. "
   ]
  },
  {
   "cell_type": "markdown",
   "id": "54f0edb2-d53b-4a50-9aeb-5dc681d39b7e",
   "metadata": {},
   "source": [
    "## Solutions"
   ]
  },
  {
   "cell_type": "markdown",
   "id": "6b4a70d3-3fe5-4798-871f-551146ea8a4a",
   "metadata": {},
   "source": [
    "This problem can be solved in 2 ways.\n",
    "1. The <b>Brute Force Technique</b>, where we scan the entire list until we find the 2 numbers whose sum is equal to the target sum.\n",
    "2. The <b>Two Pointer Technique</b>, where we use 2 pointers that traverse the list from the front and the back, until we find the 2 numbers whose sum is equal to the target sum. "
   ]
  },
  {
   "cell_type": "code",
   "execution_count": 5,
   "id": "d1e58d24-0972-4577-8501-353c054dd505",
   "metadata": {},
   "outputs": [],
   "source": [
    "a = [1,3,5,7,8,11,12,13,17,20,21,24,25]"
   ]
  },
  {
   "cell_type": "markdown",
   "id": "89bf3504-964a-4186-896a-0237bad62e3c",
   "metadata": {},
   "source": [
    "### Brute Force Technique"
   ]
  },
  {
   "cell_type": "code",
   "execution_count": 7,
   "id": "d2c8aff4-7b24-427f-a9d8-79bb1a61ed75",
   "metadata": {},
   "outputs": [],
   "source": [
    "def two_sum_problem_bf(array, target_sum):\n",
    "    i = 0\n",
    "    j = 1\n",
    "    array_len = len(array)\n",
    "    \n",
    "    for i in range(array_len):\n",
    "        for j in range(array_len):\n",
    "            sum = array[i] + array[j]\n",
    "            if sum == target_sum:\n",
    "                return {i: array[i], j: array[j]}"
   ]
  },
  {
   "cell_type": "code",
   "execution_count": 8,
   "id": "046b189c-ec17-46f4-a39c-f93da537ff58",
   "metadata": {},
   "outputs": [
    {
     "data": {
      "text/plain": [
       "{1: 3, 10: 21}"
      ]
     },
     "execution_count": 8,
     "metadata": {},
     "output_type": "execute_result"
    }
   ],
   "source": [
    "two_sum_problem_bf(a, 24)"
   ]
  },
  {
   "cell_type": "code",
   "execution_count": 9,
   "id": "df25f630-2c25-4c42-b203-f2d349c5b0a5",
   "metadata": {},
   "outputs": [
    {
     "data": {
      "text/plain": [
       "{0: 1, 9: 20}"
      ]
     },
     "execution_count": 9,
     "metadata": {},
     "output_type": "execute_result"
    }
   ],
   "source": [
    "two_sum_problem_bf(a, 21)"
   ]
  },
  {
   "cell_type": "markdown",
   "id": "404d85a9-30f3-4249-b7c0-d6a2ee473b84",
   "metadata": {},
   "source": [
    "### Two Pointer Technique"
   ]
  },
  {
   "cell_type": "code",
   "execution_count": 11,
   "id": "e2ebe108-cfc4-4b1d-978b-a9d188f9da2e",
   "metadata": {},
   "outputs": [],
   "source": [
    "def two_sum_problem_tpt(array, target_sum):\n",
    "    i = 0\n",
    "    j = len(array) - 1\n",
    "    \n",
    "    while i < j:\n",
    "        sum = array[i] + array[j]\n",
    "        if sum == target_sum:\n",
    "            break\n",
    "        else:\n",
    "            if sum > target_sum:\n",
    "                j -= 1\n",
    "            else:\n",
    "                i += 1\n",
    "\n",
    "    return {i: array[i], j: array[j]}"
   ]
  },
  {
   "cell_type": "code",
   "execution_count": 12,
   "id": "8157ceac-41c1-46ff-b394-f376414b7e23",
   "metadata": {},
   "outputs": [
    {
     "data": {
      "text/plain": [
       "{1: 3, 10: 21}"
      ]
     },
     "execution_count": 12,
     "metadata": {},
     "output_type": "execute_result"
    }
   ],
   "source": [
    "two_sum_problem_tpt(a, 24)"
   ]
  },
  {
   "cell_type": "code",
   "execution_count": 13,
   "id": "7cb9bbb3-3af9-40ad-bf05-58a70bc21079",
   "metadata": {},
   "outputs": [
    {
     "data": {
      "text/plain": [
       "{0: 1, 9: 20}"
      ]
     },
     "execution_count": 13,
     "metadata": {},
     "output_type": "execute_result"
    }
   ],
   "source": [
    "two_sum_problem_tpt(a, 21)"
   ]
  },
  {
   "cell_type": "markdown",
   "id": "bf66dcff-9681-4e14-9f59-1c59b3b1285e",
   "metadata": {},
   "source": [
    "### Timing and comparing the 2 techniques to determine which method is more time efficient or has a lower time complexity"
   ]
  },
  {
   "cell_type": "code",
   "execution_count": 15,
   "id": "eef9e42e-a848-4c1a-8aa9-bf74679c0f12",
   "metadata": {},
   "outputs": [
    {
     "name": "stdout",
     "output_type": "stream",
     "text": [
      "1.95 μs ± 16.9 ns per loop (mean ± std. dev. of 7 runs, 1,000,000 loops each)\n"
     ]
    }
   ],
   "source": [
    "%%timeit\n",
    "two_sum_problem_bf(a, 21)"
   ]
  },
  {
   "cell_type": "code",
   "execution_count": 16,
   "id": "988a9ce4-5bb7-4a1a-bebd-5b8dcb50cf3e",
   "metadata": {},
   "outputs": [
    {
     "name": "stdout",
     "output_type": "stream",
     "text": [
      "1.05 μs ± 6.03 ns per loop (mean ± std. dev. of 7 runs, 1,000,000 loops each)\n"
     ]
    }
   ],
   "source": [
    "%%timeit\n",
    "two_sum_problem_tpt(a, 21)"
   ]
  },
  {
   "cell_type": "code",
   "execution_count": null,
   "id": "13e89fb3-bca4-48c7-9d6c-41398383de12",
   "metadata": {},
   "outputs": [],
   "source": []
  }
 ],
 "metadata": {
  "kernelspec": {
   "display_name": "Python 3 (ipykernel)",
   "language": "python",
   "name": "python3"
  },
  "language_info": {
   "codemirror_mode": {
    "name": "ipython",
    "version": 3
   },
   "file_extension": ".py",
   "mimetype": "text/x-python",
   "name": "python",
   "nbconvert_exporter": "python",
   "pygments_lexer": "ipython3",
   "version": "3.12.4"
  }
 },
 "nbformat": 4,
 "nbformat_minor": 5
}
