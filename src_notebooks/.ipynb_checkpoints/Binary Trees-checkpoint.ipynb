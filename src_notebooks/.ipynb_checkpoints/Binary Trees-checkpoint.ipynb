{
 "cells": [
  {
   "cell_type": "code",
   "execution_count": 21,
   "id": "9ee4e996-165e-498b-a107-2c28d2625c07",
   "metadata": {},
   "outputs": [],
   "source": [
    "from anytree import Node, RenderTree"
   ]
  },
  {
   "cell_type": "code",
   "execution_count": 72,
   "id": "ec35eb66-f399-452e-99fe-17012d83b98b",
   "metadata": {},
   "outputs": [],
   "source": [
    "class BinaryTree:\n",
    "\n",
    "    def __init__(self):\n",
    "        self.root = None\n",
    "        self.queue = None\n",
    "\n",
    "    def insert_node(self, data):\n",
    "\n",
    "        #pdb.set_trace()\n",
    "        \n",
    "        if self.root is None:\n",
    "            node = Node(data)\n",
    "            self.root = node\n",
    "            self.queue = [node]\n",
    "        else:\n",
    "            for element in self.queue:\n",
    "                if len(element.children) == 0:\n",
    "                    node = Node(data, parent=element)\n",
    "                    self.queue.append(node)\n",
    "                    break\n",
    "                elif len(element.children) == 1:\n",
    "                    node = Node(data, parent=element)\n",
    "                    self.queue.append(node)\n",
    "                    break\n",
    "\n",
    "    def show_tree(self):        \n",
    "        for pre, fill, node in RenderTree(self.root):\n",
    "            print(\"%s%s\" % (pre, node.name))"
   ]
  },
  {
   "cell_type": "code",
   "execution_count": 74,
   "id": "0584e1cc-c1a1-4370-b3f0-fc8e7cc632a0",
   "metadata": {},
   "outputs": [
    {
     "name": "stdout",
     "output_type": "stream",
     "text": [
      "5\n",
      "├── 61\n",
      "│   ├── 2\n",
      "│   │   ├── 91\n",
      "│   │   └── 7\n",
      "│   └── 1\n",
      "│       ├── 32\n",
      "│       └── 21\n",
      "└── 4\n",
      "    ├── 9\n",
      "    │   └── 46\n",
      "    └── 13\n"
     ]
    }
   ],
   "source": [
    "btree = BinaryTree()\n",
    "btree.insert_node(5)\n",
    "btree.insert_node(61)\n",
    "btree.insert_node(4)\n",
    "btree.insert_node(2)\n",
    "btree.insert_node(1)\n",
    "btree.insert_node(9)\n",
    "btree.insert_node(13)\n",
    "btree.insert_node(91)\n",
    "btree.insert_node(7)\n",
    "btree.insert_node(32)\n",
    "btree.insert_node(21)\n",
    "btree.insert_node(46)\n",
    "btree.show_tree()"
   ]
  }
 ],
 "metadata": {
  "kernelspec": {
   "display_name": "Python 3 (ipykernel)",
   "language": "python",
   "name": "python3"
  },
  "language_info": {
   "codemirror_mode": {
    "name": "ipython",
    "version": 3
   },
   "file_extension": ".py",
   "mimetype": "text/x-python",
   "name": "python",
   "nbconvert_exporter": "python",
   "pygments_lexer": "ipython3",
   "version": "3.12.3"
  }
 },
 "nbformat": 4,
 "nbformat_minor": 5
}
