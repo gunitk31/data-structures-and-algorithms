{
 "cells": [
  {
   "cell_type": "markdown",
   "id": "50f7a2ac-abcc-449e-8407-620a60325253",
   "metadata": {},
   "source": [
    "# Implementation of a linked list in Python"
   ]
  },
  {
   "cell_type": "code",
   "execution_count": 2,
   "id": "0534e7fa-9d6d-4ef0-a7d5-e529d7f15fab",
   "metadata": {},
   "outputs": [],
   "source": [
    "import pdb"
   ]
  },
  {
   "cell_type": "code",
   "execution_count": 3,
   "id": "78e6c794-4e11-4661-9003-0838cd15c8c2",
   "metadata": {},
   "outputs": [],
   "source": [
    "class Node:\n",
    "\n",
    "    def __init__(self, data, type = 'S'):\n",
    "        self.data = data\n",
    "        self.next = None\n",
    "\n",
    "        if type == 'D':\n",
    "            self.prev = None"
   ]
  },
  {
   "cell_type": "markdown",
   "id": "87425e20-00eb-4a28-9357-0d4fde069ccc",
   "metadata": {},
   "source": [
    "## Singly Linked List"
   ]
  },
  {
   "cell_type": "code",
   "execution_count": 5,
   "id": "88f2992a-abe5-443a-8d45-3d4980b8f83e",
   "metadata": {},
   "outputs": [],
   "source": [
    "class SinglyLinkedList:\n",
    "\n",
    "    def __init__(self):\n",
    "        self.head = None\n",
    "\n",
    "    def __str__(self):\n",
    "        current_node = self.head\n",
    "        sll_display_str = ''\n",
    "        \n",
    "        while current_node is not None:\n",
    "            \n",
    "            if current_node.next is not None:\n",
    "                sll_display_str += f\"|     {current_node.data}     | --------> \"\n",
    "            else:\n",
    "                sll_display_str += f\"|     {current_node.data}     |\"\n",
    "        \n",
    "            current_node = current_node.next\n",
    "            \n",
    "        return sll_display_str\n",
    "                \n",
    "    def insertAtBeginning(self, node):\n",
    "        if self.head is None:\n",
    "            self.head = node\n",
    "        else:\n",
    "            node.next = self.head\n",
    "            self.head = node\n",
    "\n",
    "    def insertAtEnd(self, node):\n",
    "        if self.head is None:\n",
    "            self.head = node\n",
    "        else:\n",
    "            current_node = self.head\n",
    "        \n",
    "            while current_node.next is not None:\n",
    "                current_node = current_node.next\n",
    "    \n",
    "            current_node.next = node\n",
    "\n",
    "    def insertAtPosition(self, node, position):\n",
    "        current_node = self.head\n",
    "        i = 0\n",
    "\n",
    "        if self.head is None and position != 0:\n",
    "            raise IndexError(\"Linked List is Empty!\")\n",
    "        elif self.head is None and position == 0:\n",
    "            self.head = node\n",
    "        else:\n",
    "            while i != position - 1:\n",
    "                current_node = current_node.next\n",
    "                i += 1\n",
    "            \n",
    "            node.next = current_node.next\n",
    "            current_node.next = node\n",
    "\n",
    "    def deleteFromBeginning(self):\n",
    "        if self.head is None:\n",
    "            raise IndexError(\"Linked List is Empty!\")\n",
    "        else:\n",
    "            node_to_delete = self.head\n",
    "            self.head = self.head.next\n",
    "            node_to_delete.next = None\n",
    "            node_to_delete = None\n",
    "\n",
    "    def deleteFromEnd(self):\n",
    "        if self.head is None:\n",
    "            raise IndexError(\"Linked List is Empty!\")\n",
    "        else:\n",
    "            current_node = self.head\n",
    "            \n",
    "            while current_node.next.next is not None:\n",
    "                current_node = current_node.next\n",
    "    \n",
    "            node_to_delete = current_node.next\n",
    "            current_node.next = None\n",
    "            node_to_delete.next = None\n",
    "            node_to_delete = None\n",
    "\n",
    "    def deleteFromPosition(self, position):\n",
    "        current_node = self.head\n",
    "        i = 0\n",
    "\n",
    "        if self.head is None:\n",
    "            raise IndexError(\"Linked List is Empty!\")\n",
    "        \n",
    "        if position == 0:\n",
    "            node_to_delete = self.head\n",
    "            self.head = self.head.next\n",
    "            node_to_delete.next = None\n",
    "            node_to_delete = None\n",
    "        else:\n",
    "            while i != position - 1 and current_node is not None:\n",
    "                current_node = current_node.next\n",
    "                i += 1\n",
    "\n",
    "            if current_node is None and i != position - 1:\n",
    "                raise IndexError(\"Index out of bounds\")\n",
    "            else:\n",
    "                node_to_delete = current_node.next\n",
    "                current_node.next = current_node.next.next\n",
    "                node_to_delete.next = None\n",
    "                node_to_delete = None\n",
    "\n",
    "    def clearLinkedList(self):\n",
    "        current_node = self.head\n",
    "\n",
    "        while current_node is not None:\n",
    "            node_to_delete = current_node\n",
    "            current_node = current_node.next\n",
    "            self.head = current_node\n",
    "            node_to_delete.next = None\n",
    "            node_to_delete = None"
   ]
  },
  {
   "cell_type": "code",
   "execution_count": 6,
   "id": "d2f61180-c836-4a38-a452-3ae05df252ae",
   "metadata": {},
   "outputs": [],
   "source": [
    "sll = SinglyLinkedList()"
   ]
  },
  {
   "cell_type": "code",
   "execution_count": 7,
   "id": "25efdd7f-7e4b-4a91-b140-637b4ac2dbbf",
   "metadata": {},
   "outputs": [],
   "source": [
    "node_1 = Node(5)\n",
    "node_2 = Node(7)\n",
    "node_3 = Node(8)\n",
    "node_4 = Node(1)\n",
    "node_5 = Node('a')\n",
    "node_6 = Node('/')\n",
    "node_7 = Node(9)\n",
    "node_8 = Node(11)"
   ]
  },
  {
   "cell_type": "code",
   "execution_count": 8,
   "id": "df3dfd9c-c849-4384-828f-a305f9c9850a",
   "metadata": {},
   "outputs": [
    {
     "ename": "IndexError",
     "evalue": "Linked List is Empty!",
     "output_type": "error",
     "traceback": [
      "\u001b[1;31m---------------------------------------------------------------------------\u001b[0m",
      "\u001b[1;31mIndexError\u001b[0m                                Traceback (most recent call last)",
      "Cell \u001b[1;32mIn[8], line 1\u001b[0m\n\u001b[1;32m----> 1\u001b[0m sll\u001b[38;5;241m.\u001b[39mdeleteFromEnd()\n",
      "Cell \u001b[1;32mIn[5], line 66\u001b[0m, in \u001b[0;36mSinglyLinkedList.deleteFromEnd\u001b[1;34m(self)\u001b[0m\n\u001b[0;32m     64\u001b[0m \u001b[38;5;28;01mdef\u001b[39;00m \u001b[38;5;21mdeleteFromEnd\u001b[39m(\u001b[38;5;28mself\u001b[39m):\n\u001b[0;32m     65\u001b[0m     \u001b[38;5;28;01mif\u001b[39;00m \u001b[38;5;28mself\u001b[39m\u001b[38;5;241m.\u001b[39mhead \u001b[38;5;129;01mis\u001b[39;00m \u001b[38;5;28;01mNone\u001b[39;00m:\n\u001b[1;32m---> 66\u001b[0m         \u001b[38;5;28;01mraise\u001b[39;00m \u001b[38;5;167;01mIndexError\u001b[39;00m(\u001b[38;5;124m\"\u001b[39m\u001b[38;5;124mLinked List is Empty!\u001b[39m\u001b[38;5;124m\"\u001b[39m)\n\u001b[0;32m     67\u001b[0m     \u001b[38;5;28;01melse\u001b[39;00m:\n\u001b[0;32m     68\u001b[0m         current_node \u001b[38;5;241m=\u001b[39m \u001b[38;5;28mself\u001b[39m\u001b[38;5;241m.\u001b[39mhead\n",
      "\u001b[1;31mIndexError\u001b[0m: Linked List is Empty!"
     ]
    }
   ],
   "source": [
    "sll.deleteFromEnd()"
   ]
  },
  {
   "cell_type": "code",
   "execution_count": 84,
   "id": "70d9476e-c8c6-4990-9cab-b18a5d1bf14a",
   "metadata": {},
   "outputs": [
    {
     "ename": "IndexError",
     "evalue": "Linked List is Empty!",
     "output_type": "error",
     "traceback": [
      "\u001b[1;31m---------------------------------------------------------------------------\u001b[0m",
      "\u001b[1;31mIndexError\u001b[0m                                Traceback (most recent call last)",
      "Cell \u001b[1;32mIn[84], line 1\u001b[0m\n\u001b[1;32m----> 1\u001b[0m sll\u001b[38;5;241m.\u001b[39mdeleteFromBeginning()\n",
      "Cell \u001b[1;32mIn[5], line 57\u001b[0m, in \u001b[0;36mSinglyLinkedList.deleteFromBeginning\u001b[1;34m(self)\u001b[0m\n\u001b[0;32m     55\u001b[0m \u001b[38;5;28;01mdef\u001b[39;00m \u001b[38;5;21mdeleteFromBeginning\u001b[39m(\u001b[38;5;28mself\u001b[39m):\n\u001b[0;32m     56\u001b[0m     \u001b[38;5;28;01mif\u001b[39;00m \u001b[38;5;28mself\u001b[39m\u001b[38;5;241m.\u001b[39mhead \u001b[38;5;129;01mis\u001b[39;00m \u001b[38;5;28;01mNone\u001b[39;00m:\n\u001b[1;32m---> 57\u001b[0m         \u001b[38;5;28;01mraise\u001b[39;00m \u001b[38;5;167;01mIndexError\u001b[39;00m(\u001b[38;5;124m\"\u001b[39m\u001b[38;5;124mLinked List is Empty!\u001b[39m\u001b[38;5;124m\"\u001b[39m)\n\u001b[0;32m     58\u001b[0m     \u001b[38;5;28;01melse\u001b[39;00m:\n\u001b[0;32m     59\u001b[0m         node_to_delete \u001b[38;5;241m=\u001b[39m \u001b[38;5;28mself\u001b[39m\u001b[38;5;241m.\u001b[39mhead\n",
      "\u001b[1;31mIndexError\u001b[0m: Linked List is Empty!"
     ]
    }
   ],
   "source": [
    "sll.deleteFromBeginning()"
   ]
  },
  {
   "cell_type": "code",
   "execution_count": 86,
   "id": "33366942-3336-415f-b01e-dcd55c139992",
   "metadata": {},
   "outputs": [
    {
     "ename": "IndexError",
     "evalue": "Linked List is Empty!",
     "output_type": "error",
     "traceback": [
      "\u001b[1;31m---------------------------------------------------------------------------\u001b[0m",
      "\u001b[1;31mIndexError\u001b[0m                                Traceback (most recent call last)",
      "Cell \u001b[1;32mIn[86], line 1\u001b[0m\n\u001b[1;32m----> 1\u001b[0m sll\u001b[38;5;241m.\u001b[39mdeleteFromPosition(\u001b[38;5;241m8\u001b[39m)\n",
      "Cell \u001b[1;32mIn[5], line 83\u001b[0m, in \u001b[0;36mSinglyLinkedList.deleteFromPosition\u001b[1;34m(self, position)\u001b[0m\n\u001b[0;32m     80\u001b[0m i \u001b[38;5;241m=\u001b[39m \u001b[38;5;241m0\u001b[39m\n\u001b[0;32m     82\u001b[0m \u001b[38;5;28;01mif\u001b[39;00m \u001b[38;5;28mself\u001b[39m\u001b[38;5;241m.\u001b[39mhead \u001b[38;5;129;01mis\u001b[39;00m \u001b[38;5;28;01mNone\u001b[39;00m:\n\u001b[1;32m---> 83\u001b[0m     \u001b[38;5;28;01mraise\u001b[39;00m \u001b[38;5;167;01mIndexError\u001b[39;00m(\u001b[38;5;124m\"\u001b[39m\u001b[38;5;124mLinked List is Empty!\u001b[39m\u001b[38;5;124m\"\u001b[39m)\n\u001b[0;32m     85\u001b[0m \u001b[38;5;28;01mif\u001b[39;00m position \u001b[38;5;241m==\u001b[39m \u001b[38;5;241m0\u001b[39m:\n\u001b[0;32m     86\u001b[0m     node_to_delete \u001b[38;5;241m=\u001b[39m \u001b[38;5;28mself\u001b[39m\u001b[38;5;241m.\u001b[39mhead\n",
      "\u001b[1;31mIndexError\u001b[0m: Linked List is Empty!"
     ]
    }
   ],
   "source": [
    "sll.deleteFromPosition(8)"
   ]
  },
  {
   "cell_type": "code",
   "execution_count": 88,
   "id": "02253c3b-37fd-41f4-9e58-ec35f16e4379",
   "metadata": {
    "scrolled": true
   },
   "outputs": [
    {
     "ename": "IndexError",
     "evalue": "Linked List is Empty!",
     "output_type": "error",
     "traceback": [
      "\u001b[1;31m---------------------------------------------------------------------------\u001b[0m",
      "\u001b[1;31mIndexError\u001b[0m                                Traceback (most recent call last)",
      "Cell \u001b[1;32mIn[88], line 1\u001b[0m\n\u001b[1;32m----> 1\u001b[0m sll\u001b[38;5;241m.\u001b[39minsertAtPosition(node_4, \u001b[38;5;241m8\u001b[39m)\n",
      "Cell \u001b[1;32mIn[5], line 44\u001b[0m, in \u001b[0;36mSinglyLinkedList.insertAtPosition\u001b[1;34m(self, node, position)\u001b[0m\n\u001b[0;32m     41\u001b[0m i \u001b[38;5;241m=\u001b[39m \u001b[38;5;241m0\u001b[39m\n\u001b[0;32m     43\u001b[0m \u001b[38;5;28;01mif\u001b[39;00m \u001b[38;5;28mself\u001b[39m\u001b[38;5;241m.\u001b[39mhead \u001b[38;5;129;01mis\u001b[39;00m \u001b[38;5;28;01mNone\u001b[39;00m \u001b[38;5;129;01mand\u001b[39;00m position \u001b[38;5;241m!=\u001b[39m \u001b[38;5;241m0\u001b[39m:\n\u001b[1;32m---> 44\u001b[0m     \u001b[38;5;28;01mraise\u001b[39;00m \u001b[38;5;167;01mIndexError\u001b[39;00m(\u001b[38;5;124m\"\u001b[39m\u001b[38;5;124mLinked List is Empty!\u001b[39m\u001b[38;5;124m\"\u001b[39m)\n\u001b[0;32m     45\u001b[0m \u001b[38;5;28;01melif\u001b[39;00m \u001b[38;5;28mself\u001b[39m\u001b[38;5;241m.\u001b[39mhead \u001b[38;5;129;01mis\u001b[39;00m \u001b[38;5;28;01mNone\u001b[39;00m \u001b[38;5;129;01mand\u001b[39;00m position \u001b[38;5;241m==\u001b[39m \u001b[38;5;241m0\u001b[39m:\n\u001b[0;32m     46\u001b[0m     \u001b[38;5;28mself\u001b[39m\u001b[38;5;241m.\u001b[39mhead \u001b[38;5;241m=\u001b[39m node\n",
      "\u001b[1;31mIndexError\u001b[0m: Linked List is Empty!"
     ]
    }
   ],
   "source": [
    "sll.insertAtPosition(node_4, 8)"
   ]
  },
  {
   "cell_type": "code",
   "execution_count": 90,
   "id": "b1ab5874-0b8e-436b-ab6a-8588e178db01",
   "metadata": {},
   "outputs": [],
   "source": [
    "sll.insertAtEnd(node_3)\n",
    "sll.insertAtBeginning(node_2)\n",
    "sll.insertAtBeginning(node_1)"
   ]
  },
  {
   "cell_type": "code",
   "execution_count": 92,
   "id": "ec02991a-0abb-4b52-b372-2150b9321ea9",
   "metadata": {},
   "outputs": [
    {
     "name": "stdout",
     "output_type": "stream",
     "text": [
      "|     5     | --------> |     7     | --------> |     8     |\n"
     ]
    }
   ],
   "source": [
    "print(sll)"
   ]
  },
  {
   "cell_type": "code",
   "execution_count": 94,
   "id": "ce8b6816-8fee-43f1-a69a-6d290da92cea",
   "metadata": {},
   "outputs": [],
   "source": [
    "sll.clearLinkedList()"
   ]
  },
  {
   "cell_type": "code",
   "execution_count": 96,
   "id": "ee063a14-15ec-4ade-9c2d-b5062cb3b95b",
   "metadata": {},
   "outputs": [
    {
     "name": "stdout",
     "output_type": "stream",
     "text": [
      "\n"
     ]
    }
   ],
   "source": [
    "print(sll)"
   ]
  },
  {
   "cell_type": "code",
   "execution_count": 98,
   "id": "56dede7e-6dfb-41f8-90e5-29d29002718a",
   "metadata": {},
   "outputs": [],
   "source": [
    "sll.insertAtBeginning(node_3)\n",
    "sll.insertAtBeginning(node_2)\n",
    "sll.insertAtBeginning(node_1)"
   ]
  },
  {
   "cell_type": "code",
   "execution_count": 100,
   "id": "79fefdec-2a85-48a2-b418-88190ac5649e",
   "metadata": {},
   "outputs": [
    {
     "name": "stdout",
     "output_type": "stream",
     "text": [
      "|     5     | --------> |     7     | --------> |     8     |\n"
     ]
    }
   ],
   "source": [
    "print(sll)"
   ]
  },
  {
   "cell_type": "code",
   "execution_count": 102,
   "id": "40160ed2-f6aa-4d13-9aae-9ce5b487ce38",
   "metadata": {},
   "outputs": [],
   "source": [
    "sll.clearLinkedList()"
   ]
  },
  {
   "cell_type": "code",
   "execution_count": 104,
   "id": "32fdb5b3-03aa-46d5-860c-7d4e4ab7003c",
   "metadata": {},
   "outputs": [
    {
     "name": "stdout",
     "output_type": "stream",
     "text": [
      "\n"
     ]
    }
   ],
   "source": [
    "print(sll)"
   ]
  },
  {
   "cell_type": "code",
   "execution_count": 106,
   "id": "58b98713-f50d-497d-a849-b57f12a5739b",
   "metadata": {},
   "outputs": [],
   "source": [
    "sll.insertAtPosition(node_4, 0)\n",
    "sll.insertAtBeginning(node_3)\n",
    "sll.insertAtBeginning(node_2)\n",
    "sll.insertAtBeginning(node_1)\n",
    "sll.insertAtEnd(node_5)"
   ]
  },
  {
   "cell_type": "code",
   "execution_count": 108,
   "id": "9081d917-9d14-44b0-8ee2-9cc2d2efb41f",
   "metadata": {},
   "outputs": [
    {
     "name": "stdout",
     "output_type": "stream",
     "text": [
      "|     5     | --------> |     7     | --------> |     8     | --------> |     1     | --------> |     a     |\n"
     ]
    }
   ],
   "source": [
    "print(sll)"
   ]
  },
  {
   "cell_type": "code",
   "execution_count": 110,
   "id": "c81d0f63-47b7-4107-b9bb-42fedf13e522",
   "metadata": {},
   "outputs": [
    {
     "ename": "IndexError",
     "evalue": "Index out of bounds",
     "output_type": "error",
     "traceback": [
      "\u001b[1;31m---------------------------------------------------------------------------\u001b[0m",
      "\u001b[1;31mIndexError\u001b[0m                                Traceback (most recent call last)",
      "Cell \u001b[1;32mIn[110], line 1\u001b[0m\n\u001b[1;32m----> 1\u001b[0m sll\u001b[38;5;241m.\u001b[39mdeleteFromPosition(\u001b[38;5;241m7\u001b[39m)\n",
      "Cell \u001b[1;32mIn[5], line 96\u001b[0m, in \u001b[0;36mSinglyLinkedList.deleteFromPosition\u001b[1;34m(self, position)\u001b[0m\n\u001b[0;32m     93\u001b[0m     i \u001b[38;5;241m+\u001b[39m\u001b[38;5;241m=\u001b[39m \u001b[38;5;241m1\u001b[39m\n\u001b[0;32m     95\u001b[0m \u001b[38;5;28;01mif\u001b[39;00m current_node \u001b[38;5;129;01mis\u001b[39;00m \u001b[38;5;28;01mNone\u001b[39;00m \u001b[38;5;129;01mand\u001b[39;00m i \u001b[38;5;241m!=\u001b[39m position \u001b[38;5;241m-\u001b[39m \u001b[38;5;241m1\u001b[39m:\n\u001b[1;32m---> 96\u001b[0m     \u001b[38;5;28;01mraise\u001b[39;00m \u001b[38;5;167;01mIndexError\u001b[39;00m(\u001b[38;5;124m\"\u001b[39m\u001b[38;5;124mIndex out of bounds\u001b[39m\u001b[38;5;124m\"\u001b[39m)\n\u001b[0;32m     97\u001b[0m \u001b[38;5;28;01melse\u001b[39;00m:\n\u001b[0;32m     98\u001b[0m     node_to_delete \u001b[38;5;241m=\u001b[39m current_node\u001b[38;5;241m.\u001b[39mnext\n",
      "\u001b[1;31mIndexError\u001b[0m: Index out of bounds"
     ]
    }
   ],
   "source": [
    "sll.deleteFromPosition(7)"
   ]
  },
  {
   "cell_type": "code",
   "execution_count": 112,
   "id": "5f95d2d5-711e-4ff9-9f51-72e3a0ea9f37",
   "metadata": {},
   "outputs": [],
   "source": [
    "sll.deleteFromPosition(2)\n",
    "sll.deleteFromPosition(0)"
   ]
  },
  {
   "cell_type": "code",
   "execution_count": 114,
   "id": "657d11d2-8608-4a94-8322-97b93dcab0ba",
   "metadata": {},
   "outputs": [
    {
     "name": "stdout",
     "output_type": "stream",
     "text": [
      "|     7     | --------> |     1     | --------> |     a     |\n"
     ]
    }
   ],
   "source": [
    "print(sll)"
   ]
  },
  {
   "cell_type": "code",
   "execution_count": 116,
   "id": "82e89a28-2366-4fe0-b96b-b610f67d6c18",
   "metadata": {},
   "outputs": [],
   "source": [
    "sll.clearLinkedList()"
   ]
  },
  {
   "cell_type": "code",
   "execution_count": 118,
   "id": "75f9b469-0f1b-4f66-a38e-57c31e5c990e",
   "metadata": {},
   "outputs": [
    {
     "name": "stdout",
     "output_type": "stream",
     "text": [
      "\n"
     ]
    }
   ],
   "source": [
    "print(sll)"
   ]
  },
  {
   "cell_type": "code",
   "execution_count": 120,
   "id": "245991b8-001d-4d7b-bf9e-708d640932be",
   "metadata": {},
   "outputs": [],
   "source": [
    "sll.insertAtBeginning(node_3)\n",
    "sll.insertAtBeginning(node_2)\n",
    "sll.insertAtBeginning(node_1)"
   ]
  },
  {
   "cell_type": "code",
   "execution_count": 122,
   "id": "701aa503-1fc5-4654-bee1-cd49a58928bf",
   "metadata": {},
   "outputs": [],
   "source": [
    "sll.insertAtEnd(node_7)\n",
    "sll.insertAtEnd(node_8)"
   ]
  },
  {
   "cell_type": "code",
   "execution_count": 124,
   "id": "c0594413-c81d-4a2d-9b53-5a174eec9561",
   "metadata": {},
   "outputs": [
    {
     "name": "stdout",
     "output_type": "stream",
     "text": [
      "|     5     | --------> |     7     | --------> |     8     | --------> |     9     | --------> |     11     |\n"
     ]
    }
   ],
   "source": [
    "print(sll)"
   ]
  },
  {
   "cell_type": "code",
   "execution_count": 126,
   "id": "6484eb3d-0d32-4770-830c-5a023ef862a4",
   "metadata": {},
   "outputs": [],
   "source": [
    "sll.insertAtPosition(node_4, 3)\n",
    "sll.insertAtPosition(node_5, 4)\n",
    "sll.insertAtPosition(node_6, 5)"
   ]
  },
  {
   "cell_type": "code",
   "execution_count": 128,
   "id": "a8bfc6f3-1629-4c36-9f59-c112f1922d58",
   "metadata": {},
   "outputs": [
    {
     "name": "stdout",
     "output_type": "stream",
     "text": [
      "|     5     | --------> |     7     | --------> |     8     | --------> |     1     | --------> |     a     | --------> |     /     | --------> |     9     | --------> |     11     |\n"
     ]
    }
   ],
   "source": [
    "print(sll)"
   ]
  },
  {
   "cell_type": "code",
   "execution_count": 130,
   "id": "10f209c8-2445-48c8-9df9-bb30e0919744",
   "metadata": {},
   "outputs": [],
   "source": [
    "sll.deleteFromBeginning()"
   ]
  },
  {
   "cell_type": "code",
   "execution_count": 132,
   "id": "45c55fbb-0ff1-4465-be40-34e452eb0ec6",
   "metadata": {},
   "outputs": [
    {
     "name": "stdout",
     "output_type": "stream",
     "text": [
      "|     7     | --------> |     8     | --------> |     1     | --------> |     a     | --------> |     /     | --------> |     9     | --------> |     11     |\n"
     ]
    }
   ],
   "source": [
    "print(sll)"
   ]
  },
  {
   "cell_type": "code",
   "execution_count": 134,
   "id": "e9fb057c-33f6-48e8-a411-5c363da00394",
   "metadata": {},
   "outputs": [],
   "source": [
    "sll.deleteFromEnd()"
   ]
  },
  {
   "cell_type": "code",
   "execution_count": 136,
   "id": "cac01ec1-8ba2-436f-9fb9-2cd9568130ff",
   "metadata": {},
   "outputs": [
    {
     "name": "stdout",
     "output_type": "stream",
     "text": [
      "|     7     | --------> |     8     | --------> |     1     | --------> |     a     | --------> |     /     | --------> |     9     |\n"
     ]
    }
   ],
   "source": [
    "print(sll)"
   ]
  },
  {
   "cell_type": "code",
   "execution_count": 138,
   "id": "fc0128c6-71c6-45c6-bb40-b88fc0d8a79c",
   "metadata": {},
   "outputs": [],
   "source": [
    "sll.deleteFromPosition(4)"
   ]
  },
  {
   "cell_type": "code",
   "execution_count": 140,
   "id": "79d566b6-6444-455c-bcc0-84ef96e0fa65",
   "metadata": {},
   "outputs": [
    {
     "name": "stdout",
     "output_type": "stream",
     "text": [
      "|     7     | --------> |     8     | --------> |     1     | --------> |     a     | --------> |     9     |\n"
     ]
    }
   ],
   "source": [
    "print(sll)"
   ]
  },
  {
   "cell_type": "code",
   "execution_count": 142,
   "id": "5c23fd73-77c1-440b-8028-2b539ccf2efd",
   "metadata": {},
   "outputs": [],
   "source": [
    "sll.deleteFromPosition(0)"
   ]
  },
  {
   "cell_type": "code",
   "execution_count": 144,
   "id": "84675134-b4ab-489d-9fe0-c122682584af",
   "metadata": {},
   "outputs": [
    {
     "name": "stdout",
     "output_type": "stream",
     "text": [
      "|     8     | --------> |     1     | --------> |     a     | --------> |     9     |\n"
     ]
    }
   ],
   "source": [
    "print(sll)"
   ]
  },
  {
   "cell_type": "code",
   "execution_count": 146,
   "id": "d615e4ea-c14d-4be7-a69e-c8bd0eabf2e9",
   "metadata": {},
   "outputs": [
    {
     "ename": "IndexError",
     "evalue": "Index out of bounds",
     "output_type": "error",
     "traceback": [
      "\u001b[1;31m---------------------------------------------------------------------------\u001b[0m",
      "\u001b[1;31mIndexError\u001b[0m                                Traceback (most recent call last)",
      "Cell \u001b[1;32mIn[146], line 1\u001b[0m\n\u001b[1;32m----> 1\u001b[0m sll\u001b[38;5;241m.\u001b[39mdeleteFromPosition(\u001b[38;5;241m-\u001b[39m\u001b[38;5;241m2\u001b[39m)\n",
      "Cell \u001b[1;32mIn[5], line 96\u001b[0m, in \u001b[0;36mSinglyLinkedList.deleteFromPosition\u001b[1;34m(self, position)\u001b[0m\n\u001b[0;32m     93\u001b[0m     i \u001b[38;5;241m+\u001b[39m\u001b[38;5;241m=\u001b[39m \u001b[38;5;241m1\u001b[39m\n\u001b[0;32m     95\u001b[0m \u001b[38;5;28;01mif\u001b[39;00m current_node \u001b[38;5;129;01mis\u001b[39;00m \u001b[38;5;28;01mNone\u001b[39;00m \u001b[38;5;129;01mand\u001b[39;00m i \u001b[38;5;241m!=\u001b[39m position \u001b[38;5;241m-\u001b[39m \u001b[38;5;241m1\u001b[39m:\n\u001b[1;32m---> 96\u001b[0m     \u001b[38;5;28;01mraise\u001b[39;00m \u001b[38;5;167;01mIndexError\u001b[39;00m(\u001b[38;5;124m\"\u001b[39m\u001b[38;5;124mIndex out of bounds\u001b[39m\u001b[38;5;124m\"\u001b[39m)\n\u001b[0;32m     97\u001b[0m \u001b[38;5;28;01melse\u001b[39;00m:\n\u001b[0;32m     98\u001b[0m     node_to_delete \u001b[38;5;241m=\u001b[39m current_node\u001b[38;5;241m.\u001b[39mnext\n",
      "\u001b[1;31mIndexError\u001b[0m: Index out of bounds"
     ]
    }
   ],
   "source": [
    "sll.deleteFromPosition(-2)"
   ]
  },
  {
   "cell_type": "markdown",
   "id": "2bcc03b5-400c-4458-b8ac-8507558ac6bb",
   "metadata": {},
   "source": [
    "## Doubly Linked List"
   ]
  },
  {
   "cell_type": "code",
   "execution_count": 149,
   "id": "b52703ff-4719-491d-bad9-6df0ba86965d",
   "metadata": {},
   "outputs": [],
   "source": [
    "class DoublyLinkedList:\n",
    "\n",
    "    def __init__(self):\n",
    "        self.head = None\n",
    "        self.tail = None\n",
    "\n",
    "    def __str__(self):\n",
    "        current_node = self.head\n",
    "        dll_display_str = ''\n",
    "        \n",
    "        while current_node is not None:\n",
    "            \n",
    "            if current_node.next is not None:\n",
    "                dll_display_str += f\"|     {current_node.data}     | <--------> \"\n",
    "            else:\n",
    "                dll_display_str += f\"|     {current_node.data}     |\"\n",
    "        \n",
    "            current_node = current_node.next\n",
    "            \n",
    "        return dll_display_str\n",
    "                \n",
    "    def insertAtBeginning(self, node):\n",
    "        if self.head is None and self.tail is None:\n",
    "            self.head = node\n",
    "            self.tail = node\n",
    "        else:\n",
    "            node.next = self.head\n",
    "            self.head.prev = node\n",
    "            self.head = node\n",
    "\n",
    "    def insertAtEnd(self, node):\n",
    "        if self.head is None and self.tail is None:\n",
    "            self.head = node\n",
    "            self.tail = node\n",
    "        else:\n",
    "            node.prev = self.tail\n",
    "            self.tail.next = node\n",
    "            self.tail = node\n",
    "\n",
    "    def insertAtPosition(self, node, position):\n",
    "        if self.head is None and self.tail is None and position != 0:\n",
    "            raise IndexError(\"Linked List is empty!\")\n",
    "        elif self.head is None and self.tail is None and position == 0:\n",
    "            self.head = node\n",
    "            self.tail = node\n",
    "        else:\n",
    "            traverse_from_head = True\n",
    "            \n",
    "            if position < 0:\n",
    "                traverse_from_head = False\n",
    "                \n",
    "            if traverse_from_head:\n",
    "                current_node = self.head\n",
    "                i = 0\n",
    "            \n",
    "                while i != position - 1:\n",
    "                    current_node = current_node.next\n",
    "                    i += 1\n",
    "            \n",
    "                node.next = current_node.next\n",
    "                node.prev = current_node\n",
    "                current_node.next.prev = node\n",
    "                current_node.next = node\n",
    "    \n",
    "            else:\n",
    "                current_node = self.tail\n",
    "                i = -1\n",
    "            \n",
    "                while i != position + 1:\n",
    "                    current_node = current_node.prev\n",
    "                    i -= 1\n",
    "            \n",
    "                node.next = current_node\n",
    "                node.prev = current_node.prev\n",
    "                current_node.prev.next = node\n",
    "                current_node.prev = node\n",
    "\n",
    "    def deleteFromBeginning(self):\n",
    "        if self.head is None:\n",
    "            raise IndexError(\"Linked List is Empty!\")\n",
    "        else:\n",
    "            node_to_delete = self.head\n",
    "            self.head = self.head.next\n",
    "            self.head.prev = None\n",
    "            node_to_delete.next = None\n",
    "            node_to_delete.prev = None\n",
    "            node_to_delete = None \n",
    "\n",
    "    def deleteFromEnd(self):\n",
    "        if self.tail is None:\n",
    "            raise IndexError(\"Linked List is Empty!\")\n",
    "        elif self.head == self.tail:\n",
    "            self.head = self.tail = None\n",
    "        else:\n",
    "            node_to_delete = self.tail\n",
    "            self.tail = self.tail.prev\n",
    "            self.tail.next = None\n",
    "            node_to_delete.next = None\n",
    "            node_to_delete.prev = None\n",
    "            node_to_delete = None\n",
    "\n",
    "    def deleteFromPosition(self, position):\n",
    "        if self.head is None and self.tail is None:\n",
    "            raise IndexError(\"Linked List is empty!\")\n",
    "\n",
    "        if position == 0:\n",
    "            node_to_delete = self.head\n",
    "            self.head = self.head.next\n",
    "            self.head.prev = None\n",
    "            node_to_delete.next = None\n",
    "            node_to_delete.prev = None\n",
    "            node_to_delete = None \n",
    "        else: \n",
    "            traverse_from_head = True\n",
    "            \n",
    "            if position < 0:\n",
    "                traverse_from_head = False\n",
    "            \n",
    "            if traverse_from_head:\n",
    "                current_node = self.head\n",
    "                i = 0\n",
    "            \n",
    "                while i != position and current_node is not None:\n",
    "                    current_node = current_node.next\n",
    "                    i += 1\n",
    "    \n",
    "                if current_node is None and i != position:\n",
    "                    raise IndexError(\"Index out of bounds\")\n",
    "                else:   \n",
    "                    node_to_delete = current_node\n",
    "                    current_node.prev.next = node_to_delete.next\n",
    "                    current_node.next.prev = node_to_delete.prev\n",
    "                    node_to_delete.next = None\n",
    "                    node_to_delete.prev = None\n",
    "                    node_to_delete = None\n",
    "    \n",
    "            else:\n",
    "                current_node = self.tail\n",
    "                i = -1\n",
    "                \n",
    "                while i != position and current_node is not None:\n",
    "                    current_node = current_node.prev\n",
    "                    i -= 1\n",
    "                \n",
    "                if current_node is None and i != position:\n",
    "                    raise IndexError(\"Index out of bounds\")\n",
    "                else:\n",
    "                    node_to_delete = current_node\n",
    "                    current_node.prev.next = node_to_delete.next\n",
    "                    current_node.next.prev = node_to_delete.prev\n",
    "                    node_to_delete.next = None\n",
    "                    node_to_delete.prev = None\n",
    "                    node_to_delete = None\n",
    "\n",
    "    def clearLinkedList(self):\n",
    "        current_node = self.head\n",
    "\n",
    "        while current_node is not None:\n",
    "            node_to_delete = current_node\n",
    "            current_node = current_node.next\n",
    "            self.head = current_node\n",
    "            node_to_delete.next = None\n",
    "            node_to_delete.prev = None\n",
    "            node_to_delete = None\n",
    "\n",
    "        self.tail = None"
   ]
  },
  {
   "cell_type": "code",
   "execution_count": 151,
   "id": "02ada0d2-317f-433d-944e-4e88a9a7beca",
   "metadata": {},
   "outputs": [],
   "source": [
    "dll = DoublyLinkedList()"
   ]
  },
  {
   "cell_type": "code",
   "execution_count": 153,
   "id": "896301ed-99af-43d9-ac97-e971d4c3816f",
   "metadata": {},
   "outputs": [],
   "source": [
    "node_1 = Node(5, 'D')\n",
    "node_2 = Node(7, 'D')\n",
    "node_3 = Node(8, 'D')\n",
    "node_4 = Node(1, 'D')\n",
    "node_5 = Node('a', 'D')\n",
    "node_6 = Node('/', 'D')\n",
    "node_7 = Node(9, 'D')\n",
    "node_8 = Node(11, 'D')"
   ]
  },
  {
   "cell_type": "code",
   "execution_count": 155,
   "id": "749ec485-74c4-40b9-8a50-c07b23143ad4",
   "metadata": {},
   "outputs": [
    {
     "ename": "IndexError",
     "evalue": "Linked List is Empty!",
     "output_type": "error",
     "traceback": [
      "\u001b[1;31m---------------------------------------------------------------------------\u001b[0m",
      "\u001b[1;31mIndexError\u001b[0m                                Traceback (most recent call last)",
      "Cell \u001b[1;32mIn[155], line 1\u001b[0m\n\u001b[1;32m----> 1\u001b[0m dll\u001b[38;5;241m.\u001b[39mdeleteFromEnd()\n",
      "Cell \u001b[1;32mIn[149], line 91\u001b[0m, in \u001b[0;36mDoublyLinkedList.deleteFromEnd\u001b[1;34m(self)\u001b[0m\n\u001b[0;32m     89\u001b[0m \u001b[38;5;28;01mdef\u001b[39;00m \u001b[38;5;21mdeleteFromEnd\u001b[39m(\u001b[38;5;28mself\u001b[39m):\n\u001b[0;32m     90\u001b[0m     \u001b[38;5;28;01mif\u001b[39;00m \u001b[38;5;28mself\u001b[39m\u001b[38;5;241m.\u001b[39mtail \u001b[38;5;129;01mis\u001b[39;00m \u001b[38;5;28;01mNone\u001b[39;00m:\n\u001b[1;32m---> 91\u001b[0m         \u001b[38;5;28;01mraise\u001b[39;00m \u001b[38;5;167;01mIndexError\u001b[39;00m(\u001b[38;5;124m\"\u001b[39m\u001b[38;5;124mLinked List is Empty!\u001b[39m\u001b[38;5;124m\"\u001b[39m)\n\u001b[0;32m     92\u001b[0m     \u001b[38;5;28;01melif\u001b[39;00m \u001b[38;5;28mself\u001b[39m\u001b[38;5;241m.\u001b[39mhead \u001b[38;5;241m==\u001b[39m \u001b[38;5;28mself\u001b[39m\u001b[38;5;241m.\u001b[39mtail:\n\u001b[0;32m     93\u001b[0m         \u001b[38;5;28mself\u001b[39m\u001b[38;5;241m.\u001b[39mhead \u001b[38;5;241m=\u001b[39m \u001b[38;5;28mself\u001b[39m\u001b[38;5;241m.\u001b[39mtail \u001b[38;5;241m=\u001b[39m \u001b[38;5;28;01mNone\u001b[39;00m\n",
      "\u001b[1;31mIndexError\u001b[0m: Linked List is Empty!"
     ]
    }
   ],
   "source": [
    "dll.deleteFromEnd()"
   ]
  },
  {
   "cell_type": "code",
   "execution_count": 157,
   "id": "43a04c03-b639-4b59-a36e-d448fc395520",
   "metadata": {},
   "outputs": [
    {
     "ename": "IndexError",
     "evalue": "Linked List is Empty!",
     "output_type": "error",
     "traceback": [
      "\u001b[1;31m---------------------------------------------------------------------------\u001b[0m",
      "\u001b[1;31mIndexError\u001b[0m                                Traceback (most recent call last)",
      "Cell \u001b[1;32mIn[157], line 1\u001b[0m\n\u001b[1;32m----> 1\u001b[0m dll\u001b[38;5;241m.\u001b[39mdeleteFromBeginning()\n",
      "Cell \u001b[1;32mIn[149], line 80\u001b[0m, in \u001b[0;36mDoublyLinkedList.deleteFromBeginning\u001b[1;34m(self)\u001b[0m\n\u001b[0;32m     78\u001b[0m \u001b[38;5;28;01mdef\u001b[39;00m \u001b[38;5;21mdeleteFromBeginning\u001b[39m(\u001b[38;5;28mself\u001b[39m):\n\u001b[0;32m     79\u001b[0m     \u001b[38;5;28;01mif\u001b[39;00m \u001b[38;5;28mself\u001b[39m\u001b[38;5;241m.\u001b[39mhead \u001b[38;5;129;01mis\u001b[39;00m \u001b[38;5;28;01mNone\u001b[39;00m:\n\u001b[1;32m---> 80\u001b[0m         \u001b[38;5;28;01mraise\u001b[39;00m \u001b[38;5;167;01mIndexError\u001b[39;00m(\u001b[38;5;124m\"\u001b[39m\u001b[38;5;124mLinked List is Empty!\u001b[39m\u001b[38;5;124m\"\u001b[39m)\n\u001b[0;32m     81\u001b[0m     \u001b[38;5;28;01melse\u001b[39;00m:\n\u001b[0;32m     82\u001b[0m         node_to_delete \u001b[38;5;241m=\u001b[39m \u001b[38;5;28mself\u001b[39m\u001b[38;5;241m.\u001b[39mhead\n",
      "\u001b[1;31mIndexError\u001b[0m: Linked List is Empty!"
     ]
    }
   ],
   "source": [
    "dll.deleteFromBeginning()"
   ]
  },
  {
   "cell_type": "code",
   "execution_count": 159,
   "id": "fe02362a-7ce5-423e-95c1-3772a51b2833",
   "metadata": {},
   "outputs": [
    {
     "ename": "IndexError",
     "evalue": "Linked List is empty!",
     "output_type": "error",
     "traceback": [
      "\u001b[1;31m---------------------------------------------------------------------------\u001b[0m",
      "\u001b[1;31mIndexError\u001b[0m                                Traceback (most recent call last)",
      "Cell \u001b[1;32mIn[159], line 1\u001b[0m\n\u001b[1;32m----> 1\u001b[0m dll\u001b[38;5;241m.\u001b[39mdeleteFromPosition(\u001b[38;5;241m8\u001b[39m)\n",
      "Cell \u001b[1;32mIn[149], line 104\u001b[0m, in \u001b[0;36mDoublyLinkedList.deleteFromPosition\u001b[1;34m(self, position)\u001b[0m\n\u001b[0;32m    102\u001b[0m \u001b[38;5;28;01mdef\u001b[39;00m \u001b[38;5;21mdeleteFromPosition\u001b[39m(\u001b[38;5;28mself\u001b[39m, position):\n\u001b[0;32m    103\u001b[0m     \u001b[38;5;28;01mif\u001b[39;00m \u001b[38;5;28mself\u001b[39m\u001b[38;5;241m.\u001b[39mhead \u001b[38;5;129;01mis\u001b[39;00m \u001b[38;5;28;01mNone\u001b[39;00m \u001b[38;5;129;01mand\u001b[39;00m \u001b[38;5;28mself\u001b[39m\u001b[38;5;241m.\u001b[39mtail \u001b[38;5;129;01mis\u001b[39;00m \u001b[38;5;28;01mNone\u001b[39;00m:\n\u001b[1;32m--> 104\u001b[0m         \u001b[38;5;28;01mraise\u001b[39;00m \u001b[38;5;167;01mIndexError\u001b[39;00m(\u001b[38;5;124m\"\u001b[39m\u001b[38;5;124mLinked List is empty!\u001b[39m\u001b[38;5;124m\"\u001b[39m)\n\u001b[0;32m    106\u001b[0m     \u001b[38;5;28;01mif\u001b[39;00m position \u001b[38;5;241m==\u001b[39m \u001b[38;5;241m0\u001b[39m:\n\u001b[0;32m    107\u001b[0m         node_to_delete \u001b[38;5;241m=\u001b[39m \u001b[38;5;28mself\u001b[39m\u001b[38;5;241m.\u001b[39mhead\n",
      "\u001b[1;31mIndexError\u001b[0m: Linked List is empty!"
     ]
    }
   ],
   "source": [
    "dll.deleteFromPosition(8)"
   ]
  },
  {
   "cell_type": "code",
   "execution_count": 161,
   "id": "dd9ccf92-0dd3-40fd-9143-a0ec2c15192c",
   "metadata": {},
   "outputs": [
    {
     "ename": "IndexError",
     "evalue": "Linked List is empty!",
     "output_type": "error",
     "traceback": [
      "\u001b[1;31m---------------------------------------------------------------------------\u001b[0m",
      "\u001b[1;31mIndexError\u001b[0m                                Traceback (most recent call last)",
      "Cell \u001b[1;32mIn[161], line 1\u001b[0m\n\u001b[1;32m----> 1\u001b[0m dll\u001b[38;5;241m.\u001b[39minsertAtPosition(node_3, \u001b[38;5;241m3\u001b[39m)\n",
      "Cell \u001b[1;32mIn[149], line 42\u001b[0m, in \u001b[0;36mDoublyLinkedList.insertAtPosition\u001b[1;34m(self, node, position)\u001b[0m\n\u001b[0;32m     40\u001b[0m \u001b[38;5;28;01mdef\u001b[39;00m \u001b[38;5;21minsertAtPosition\u001b[39m(\u001b[38;5;28mself\u001b[39m, node, position):\n\u001b[0;32m     41\u001b[0m     \u001b[38;5;28;01mif\u001b[39;00m \u001b[38;5;28mself\u001b[39m\u001b[38;5;241m.\u001b[39mhead \u001b[38;5;129;01mis\u001b[39;00m \u001b[38;5;28;01mNone\u001b[39;00m \u001b[38;5;129;01mand\u001b[39;00m \u001b[38;5;28mself\u001b[39m\u001b[38;5;241m.\u001b[39mtail \u001b[38;5;129;01mis\u001b[39;00m \u001b[38;5;28;01mNone\u001b[39;00m \u001b[38;5;129;01mand\u001b[39;00m position \u001b[38;5;241m!=\u001b[39m \u001b[38;5;241m0\u001b[39m:\n\u001b[1;32m---> 42\u001b[0m         \u001b[38;5;28;01mraise\u001b[39;00m \u001b[38;5;167;01mIndexError\u001b[39;00m(\u001b[38;5;124m\"\u001b[39m\u001b[38;5;124mLinked List is empty!\u001b[39m\u001b[38;5;124m\"\u001b[39m)\n\u001b[0;32m     43\u001b[0m     \u001b[38;5;28;01melif\u001b[39;00m \u001b[38;5;28mself\u001b[39m\u001b[38;5;241m.\u001b[39mhead \u001b[38;5;129;01mis\u001b[39;00m \u001b[38;5;28;01mNone\u001b[39;00m \u001b[38;5;129;01mand\u001b[39;00m \u001b[38;5;28mself\u001b[39m\u001b[38;5;241m.\u001b[39mtail \u001b[38;5;129;01mis\u001b[39;00m \u001b[38;5;28;01mNone\u001b[39;00m \u001b[38;5;129;01mand\u001b[39;00m position \u001b[38;5;241m==\u001b[39m \u001b[38;5;241m0\u001b[39m:\n\u001b[0;32m     44\u001b[0m         \u001b[38;5;28mself\u001b[39m\u001b[38;5;241m.\u001b[39mhead \u001b[38;5;241m=\u001b[39m node\n",
      "\u001b[1;31mIndexError\u001b[0m: Linked List is empty!"
     ]
    }
   ],
   "source": [
    "dll.insertAtPosition(node_3, 3)"
   ]
  },
  {
   "cell_type": "code",
   "execution_count": 390,
   "id": "f6ea91ed-d6e1-40b9-9852-ee431905e8e7",
   "metadata": {},
   "outputs": [],
   "source": [
    "dll.insertAtEnd(node_3)\n",
    "dll.insertAtBeginning(node_2)\n",
    "dll.insertAtBeginning(node_1)"
   ]
  },
  {
   "cell_type": "code",
   "execution_count": 392,
   "id": "e78219cb-7a4a-4652-b2ef-ad10d4fc5dc9",
   "metadata": {},
   "outputs": [
    {
     "name": "stdout",
     "output_type": "stream",
     "text": [
      "|     5     | <--------> |     7     | <--------> |     8     |\n"
     ]
    }
   ],
   "source": [
    "print(dll)"
   ]
  },
  {
   "cell_type": "code",
   "execution_count": 380,
   "id": "60c98455-feaa-41af-8257-7264728c49dd",
   "metadata": {},
   "outputs": [],
   "source": [
    "dll.clearLinkedList()"
   ]
  },
  {
   "cell_type": "code",
   "execution_count": 382,
   "id": "37306c58-1590-4f8c-9971-569eb0edc933",
   "metadata": {},
   "outputs": [
    {
     "name": "stdout",
     "output_type": "stream",
     "text": [
      "\n"
     ]
    }
   ],
   "source": [
    "print(dll)"
   ]
  },
  {
   "cell_type": "code",
   "execution_count": 171,
   "id": "47b6b2aa-6684-4931-b91a-a042cd7d3bd2",
   "metadata": {},
   "outputs": [],
   "source": [
    "dll.insertAtBeginning(node_3)\n",
    "dll.insertAtBeginning(node_2)\n",
    "dll.insertAtBeginning(node_1)"
   ]
  },
  {
   "cell_type": "code",
   "execution_count": 173,
   "id": "3f3c6ed4-0e9b-4204-852f-bc0517877d83",
   "metadata": {},
   "outputs": [
    {
     "name": "stdout",
     "output_type": "stream",
     "text": [
      "|     5     | <--------> |     7     | <--------> |     8     |\n"
     ]
    }
   ],
   "source": [
    "print(dll)"
   ]
  },
  {
   "cell_type": "code",
   "execution_count": 175,
   "id": "3fd7263c-1659-4f7a-a730-d27231d5e427",
   "metadata": {},
   "outputs": [],
   "source": [
    "dll.clearLinkedList()"
   ]
  },
  {
   "cell_type": "code",
   "execution_count": 177,
   "id": "c735fb54-ef9c-4243-bf7c-559325eba75e",
   "metadata": {},
   "outputs": [
    {
     "name": "stdout",
     "output_type": "stream",
     "text": [
      "\n"
     ]
    }
   ],
   "source": [
    "print(dll)"
   ]
  },
  {
   "cell_type": "code",
   "execution_count": 179,
   "id": "3ec69876-014b-4965-b448-fe5f1abb0d76",
   "metadata": {},
   "outputs": [],
   "source": [
    "dll.insertAtPosition(node_4, 0)\n",
    "dll.insertAtBeginning(node_3)\n",
    "dll.insertAtBeginning(node_2)\n",
    "dll.insertAtBeginning(node_1)\n",
    "dll.insertAtEnd(node_5)"
   ]
  },
  {
   "cell_type": "code",
   "execution_count": 181,
   "id": "5c456d86-56db-4fae-a389-44e7b633c379",
   "metadata": {},
   "outputs": [
    {
     "name": "stdout",
     "output_type": "stream",
     "text": [
      "|     5     | <--------> |     7     | <--------> |     8     | <--------> |     1     | <--------> |     a     |\n"
     ]
    }
   ],
   "source": [
    "print(dll)"
   ]
  },
  {
   "cell_type": "code",
   "execution_count": 183,
   "id": "fb83f920-e6c5-4656-adf2-66e7cc7f53c2",
   "metadata": {},
   "outputs": [
    {
     "ename": "IndexError",
     "evalue": "Index out of bounds",
     "output_type": "error",
     "traceback": [
      "\u001b[1;31m---------------------------------------------------------------------------\u001b[0m",
      "\u001b[1;31mIndexError\u001b[0m                                Traceback (most recent call last)",
      "Cell \u001b[1;32mIn[183], line 1\u001b[0m\n\u001b[1;32m----> 1\u001b[0m dll\u001b[38;5;241m.\u001b[39mdeleteFromPosition(\u001b[38;5;241m7\u001b[39m)\n",
      "Cell \u001b[1;32mIn[149], line 128\u001b[0m, in \u001b[0;36mDoublyLinkedList.deleteFromPosition\u001b[1;34m(self, position)\u001b[0m\n\u001b[0;32m    125\u001b[0m     i \u001b[38;5;241m+\u001b[39m\u001b[38;5;241m=\u001b[39m \u001b[38;5;241m1\u001b[39m\n\u001b[0;32m    127\u001b[0m \u001b[38;5;28;01mif\u001b[39;00m current_node \u001b[38;5;129;01mis\u001b[39;00m \u001b[38;5;28;01mNone\u001b[39;00m \u001b[38;5;129;01mand\u001b[39;00m i \u001b[38;5;241m!=\u001b[39m position:\n\u001b[1;32m--> 128\u001b[0m     \u001b[38;5;28;01mraise\u001b[39;00m \u001b[38;5;167;01mIndexError\u001b[39;00m(\u001b[38;5;124m\"\u001b[39m\u001b[38;5;124mIndex out of bounds\u001b[39m\u001b[38;5;124m\"\u001b[39m)\n\u001b[0;32m    129\u001b[0m \u001b[38;5;28;01melse\u001b[39;00m:   \n\u001b[0;32m    130\u001b[0m     node_to_delete \u001b[38;5;241m=\u001b[39m current_node\n",
      "\u001b[1;31mIndexError\u001b[0m: Index out of bounds"
     ]
    }
   ],
   "source": [
    "dll.deleteFromPosition(7)"
   ]
  },
  {
   "cell_type": "code",
   "execution_count": 185,
   "id": "f64cfb58-c006-4518-b603-bc6b5c0d80fe",
   "metadata": {},
   "outputs": [],
   "source": [
    "dll.deleteFromPosition(2)\n",
    "dll.deleteFromPosition(0)"
   ]
  },
  {
   "cell_type": "code",
   "execution_count": 187,
   "id": "1cad8d35-b2c4-4787-860a-135dfedd06df",
   "metadata": {},
   "outputs": [
    {
     "name": "stdout",
     "output_type": "stream",
     "text": [
      "|     7     | <--------> |     1     | <--------> |     a     |\n"
     ]
    }
   ],
   "source": [
    "print(dll)"
   ]
  },
  {
   "cell_type": "code",
   "execution_count": 189,
   "id": "b48102af-53d5-4466-ac9d-6441fd681f11",
   "metadata": {},
   "outputs": [],
   "source": [
    "dll.clearLinkedList()"
   ]
  },
  {
   "cell_type": "code",
   "execution_count": 191,
   "id": "9c631596-3d05-4239-8373-ccbb10fad1d6",
   "metadata": {},
   "outputs": [
    {
     "name": "stdout",
     "output_type": "stream",
     "text": [
      "\n"
     ]
    }
   ],
   "source": [
    "print(dll)"
   ]
  },
  {
   "cell_type": "code",
   "execution_count": 193,
   "id": "5cc2de48-f84b-4048-a480-84e58270d7e4",
   "metadata": {},
   "outputs": [],
   "source": [
    "dll.insertAtBeginning(node_3)\n",
    "dll.insertAtBeginning(node_2)\n",
    "dll.insertAtBeginning(node_1)"
   ]
  },
  {
   "cell_type": "code",
   "execution_count": 195,
   "id": "dbaa9351-b596-45a7-8bd2-66412c5e1907",
   "metadata": {},
   "outputs": [
    {
     "name": "stdout",
     "output_type": "stream",
     "text": [
      "|     5     | <--------> |     7     | <--------> |     8     |\n"
     ]
    }
   ],
   "source": [
    "print(dll)"
   ]
  },
  {
   "cell_type": "code",
   "execution_count": 197,
   "id": "d34e63cf-35c9-471a-a7ce-bad2b26ec80d",
   "metadata": {},
   "outputs": [],
   "source": [
    "dll.insertAtEnd(node_7)\n",
    "dll.insertAtEnd(node_8)"
   ]
  },
  {
   "cell_type": "code",
   "execution_count": 199,
   "id": "7acc94d6-372e-46db-ac89-83d430dbf934",
   "metadata": {},
   "outputs": [
    {
     "name": "stdout",
     "output_type": "stream",
     "text": [
      "|     5     | <--------> |     7     | <--------> |     8     | <--------> |     9     | <--------> |     11     |\n"
     ]
    }
   ],
   "source": [
    "print(dll)"
   ]
  },
  {
   "cell_type": "code",
   "execution_count": 201,
   "id": "aecc7d98-c9e2-4473-ad40-90cf0ae3b779",
   "metadata": {},
   "outputs": [],
   "source": [
    "dll.insertAtPosition(node_4, 3)"
   ]
  },
  {
   "cell_type": "code",
   "execution_count": 203,
   "id": "59a1e96c-1138-455e-a249-61abaff5419e",
   "metadata": {},
   "outputs": [
    {
     "name": "stdout",
     "output_type": "stream",
     "text": [
      "|     5     | <--------> |     7     | <--------> |     8     | <--------> |     1     | <--------> |     9     | <--------> |     11     |\n"
     ]
    }
   ],
   "source": [
    "print(dll)"
   ]
  },
  {
   "cell_type": "code",
   "execution_count": 205,
   "id": "454866a7-e606-4a82-9bb0-5cc1c5c70449",
   "metadata": {},
   "outputs": [],
   "source": [
    "dll.insertAtPosition(node_6, -3)\n",
    "dll.insertAtPosition(node_5, -4)"
   ]
  },
  {
   "cell_type": "code",
   "execution_count": 207,
   "id": "05fd5602-17c7-4e68-9b14-c629b506a6e1",
   "metadata": {},
   "outputs": [
    {
     "name": "stdout",
     "output_type": "stream",
     "text": [
      "|     5     | <--------> |     7     | <--------> |     8     | <--------> |     1     | <--------> |     a     | <--------> |     /     | <--------> |     9     | <--------> |     11     |\n"
     ]
    }
   ],
   "source": [
    "print(dll)"
   ]
  },
  {
   "cell_type": "code",
   "execution_count": 209,
   "id": "008d9788-030a-40c4-a342-ee8856e90b97",
   "metadata": {},
   "outputs": [],
   "source": [
    "dll.deleteFromBeginning()"
   ]
  },
  {
   "cell_type": "code",
   "execution_count": 211,
   "id": "b37d67fe-c30e-4981-bc0e-afb21496cfce",
   "metadata": {},
   "outputs": [
    {
     "name": "stdout",
     "output_type": "stream",
     "text": [
      "|     7     | <--------> |     8     | <--------> |     1     | <--------> |     a     | <--------> |     /     | <--------> |     9     | <--------> |     11     |\n"
     ]
    }
   ],
   "source": [
    "print(dll)"
   ]
  },
  {
   "cell_type": "code",
   "execution_count": 213,
   "id": "334f39c7-afb7-465e-a715-c2c0849aa9e5",
   "metadata": {},
   "outputs": [],
   "source": [
    "dll.deleteFromEnd()"
   ]
  },
  {
   "cell_type": "code",
   "execution_count": 215,
   "id": "8b8018fc-a13d-4e84-abf8-215777cf9b38",
   "metadata": {},
   "outputs": [
    {
     "name": "stdout",
     "output_type": "stream",
     "text": [
      "|     7     | <--------> |     8     | <--------> |     1     | <--------> |     a     | <--------> |     /     | <--------> |     9     |\n"
     ]
    }
   ],
   "source": [
    "print(dll)"
   ]
  },
  {
   "cell_type": "code",
   "execution_count": 217,
   "id": "6bda9bb6-0bbb-4717-8518-97de74cc95d2",
   "metadata": {},
   "outputs": [],
   "source": [
    "dll.deleteFromPosition(4)"
   ]
  },
  {
   "cell_type": "code",
   "execution_count": 219,
   "id": "958c305b-c52f-4556-93e3-3e0adbced12a",
   "metadata": {},
   "outputs": [
    {
     "name": "stdout",
     "output_type": "stream",
     "text": [
      "|     7     | <--------> |     8     | <--------> |     1     | <--------> |     a     | <--------> |     9     |\n"
     ]
    }
   ],
   "source": [
    "print(dll)"
   ]
  },
  {
   "cell_type": "code",
   "execution_count": 221,
   "id": "446815fb-d53b-4407-baeb-58bfc5b40dd4",
   "metadata": {},
   "outputs": [],
   "source": [
    "dll.deleteFromPosition(-2)"
   ]
  },
  {
   "cell_type": "code",
   "execution_count": 223,
   "id": "67585030-9001-4acb-b767-26acbebc4239",
   "metadata": {},
   "outputs": [
    {
     "name": "stdout",
     "output_type": "stream",
     "text": [
      "|     7     | <--------> |     8     | <--------> |     1     | <--------> |     9     |\n"
     ]
    }
   ],
   "source": [
    "print(dll)"
   ]
  },
  {
   "cell_type": "code",
   "execution_count": 225,
   "id": "74ddd6b7-8ffe-4f36-b702-8941c03deb03",
   "metadata": {},
   "outputs": [],
   "source": [
    "dll.deleteFromPosition(0)"
   ]
  },
  {
   "cell_type": "code",
   "execution_count": 227,
   "id": "8b73c4f1-43f7-44b3-92f0-8e03d174b9c6",
   "metadata": {},
   "outputs": [
    {
     "name": "stdout",
     "output_type": "stream",
     "text": [
      "|     8     | <--------> |     1     | <--------> |     9     |\n"
     ]
    }
   ],
   "source": [
    "print(dll)"
   ]
  },
  {
   "cell_type": "code",
   "execution_count": 229,
   "id": "3b4789e7-0daa-4ef3-83ee-17f886e49f8f",
   "metadata": {},
   "outputs": [
    {
     "ename": "IndexError",
     "evalue": "Index out of bounds",
     "output_type": "error",
     "traceback": [
      "\u001b[1;31m---------------------------------------------------------------------------\u001b[0m",
      "\u001b[1;31mIndexError\u001b[0m                                Traceback (most recent call last)",
      "Cell \u001b[1;32mIn[229], line 1\u001b[0m\n\u001b[1;32m----> 1\u001b[0m dll\u001b[38;5;241m.\u001b[39mdeleteFromPosition(\u001b[38;5;241m-\u001b[39m\u001b[38;5;241m5\u001b[39m)\n",
      "Cell \u001b[1;32mIn[149], line 146\u001b[0m, in \u001b[0;36mDoublyLinkedList.deleteFromPosition\u001b[1;34m(self, position)\u001b[0m\n\u001b[0;32m    143\u001b[0m     i \u001b[38;5;241m-\u001b[39m\u001b[38;5;241m=\u001b[39m \u001b[38;5;241m1\u001b[39m\n\u001b[0;32m    145\u001b[0m \u001b[38;5;28;01mif\u001b[39;00m current_node \u001b[38;5;129;01mis\u001b[39;00m \u001b[38;5;28;01mNone\u001b[39;00m \u001b[38;5;129;01mand\u001b[39;00m i \u001b[38;5;241m!=\u001b[39m position:\n\u001b[1;32m--> 146\u001b[0m     \u001b[38;5;28;01mraise\u001b[39;00m \u001b[38;5;167;01mIndexError\u001b[39;00m(\u001b[38;5;124m\"\u001b[39m\u001b[38;5;124mIndex out of bounds\u001b[39m\u001b[38;5;124m\"\u001b[39m)\n\u001b[0;32m    147\u001b[0m \u001b[38;5;28;01melse\u001b[39;00m:\n\u001b[0;32m    148\u001b[0m     node_to_delete \u001b[38;5;241m=\u001b[39m current_node\n",
      "\u001b[1;31mIndexError\u001b[0m: Index out of bounds"
     ]
    }
   ],
   "source": [
    "dll.deleteFromPosition(-5)"
   ]
  },
  {
   "cell_type": "code",
   "execution_count": 231,
   "id": "22d2e498-b187-4797-a9dd-b61f74b4d08f",
   "metadata": {},
   "outputs": [],
   "source": [
    "dll.deleteFromPosition(-2)"
   ]
  },
  {
   "cell_type": "code",
   "execution_count": 233,
   "id": "55662534-acbe-4dc1-9534-b94ff2faf9c8",
   "metadata": {},
   "outputs": [
    {
     "name": "stdout",
     "output_type": "stream",
     "text": [
      "|     8     | <--------> |     9     |\n"
     ]
    }
   ],
   "source": [
    "print(dll)"
   ]
  },
  {
   "cell_type": "markdown",
   "id": "d353019b-76e6-4780-90d6-5f169daa649a",
   "metadata": {},
   "source": [
    "## Singly Circular Linked List"
   ]
  },
  {
   "cell_type": "code",
   "execution_count": 309,
   "id": "9b03db18-2490-429c-8a82-e86b06b73926",
   "metadata": {},
   "outputs": [],
   "source": [
    "class SinglyCircularLinkedList(SinglyLinkedList):\n",
    "\n",
    "    def __init__(self):\n",
    "        SinglyLinkedList.__init__(self)\n",
    "\n",
    "    def __str__(self):\n",
    "        current_node = self.head\n",
    "        scll_display_str = ''\n",
    "        \n",
    "        while current_node.next is not self.head:\n",
    "            scll_display_str += f\"|     {current_node.data}     | --------> \"\n",
    "            current_node = current_node.next\n",
    "        else: \n",
    "            scll_display_str += f\"|     {current_node.data}     | --------> \"\n",
    "            \n",
    "        return scll_display_str\n",
    "\n",
    "    def insertAtBeginning(self, node):\n",
    "        if self.head is None:\n",
    "            self.head = node\n",
    "            self.head.next = node\n",
    "        else:\n",
    "            current_node = self.head\n",
    "            \n",
    "            while current_node.next is not self.head:\n",
    "                current_node = current_node.next\n",
    "    \n",
    "            current_node.next = node\n",
    "            node.next = self.head\n",
    "            self.head = node\n",
    "        \n",
    "    def insertAtEnd(self, node):\n",
    "        if self.head is None:\n",
    "            self.head = node\n",
    "            self.head.next = node\n",
    "        else:\n",
    "            current_node = self.head\n",
    "            \n",
    "            while current_node.next is not self.head:\n",
    "                current_node = current_node.next\n",
    "    \n",
    "            current_node.next = node\n",
    "            node.next = self.head\n",
    "\n",
    "    def deleteFromBeginning(self):\n",
    "        if self.head is None:\n",
    "            print(\"Linked List is Empty!\")\n",
    "        else:\n",
    "            current_node = self.head\n",
    "            \n",
    "            while current_node.next is not self.head:\n",
    "                current_node = current_node.next\n",
    "    \n",
    "            node_to_delete = self.head\n",
    "            current_node.next = self.head.next\n",
    "            self.head = self.head.next\n",
    "            node_to_delete.next = None\n",
    "            node_to_delete = None\n",
    "\n",
    "    def deleteFromEnd(self):\n",
    "        if self.head is None:\n",
    "            print(\"Linked List is Empty!\")\n",
    "        else:\n",
    "            current_node = self.head\n",
    "            \n",
    "            while current_node.next.next is not self.head:\n",
    "                current_node = current_node.next\n",
    "    \n",
    "            node_to_delete = current_node.next\n",
    "            current_node.next = self.head\n",
    "            node_to_delete.next = None\n",
    "            node_to_delete = None"
   ]
  },
  {
   "cell_type": "code",
   "execution_count": 310,
   "id": "88a475d7-987c-40ad-86f8-7db5042edab8",
   "metadata": {},
   "outputs": [],
   "source": [
    "scll = SinglyCircularLinkedList()"
   ]
  },
  {
   "cell_type": "code",
   "execution_count": 311,
   "id": "408ad74c-2e93-4ccb-a7cf-faecaecd2b24",
   "metadata": {},
   "outputs": [],
   "source": [
    "node_1 = Node(5)\n",
    "node_2 = Node(7)\n",
    "node_3 = Node(8)\n",
    "node_4 = Node(1)\n",
    "node_5 = Node('a')\n",
    "node_6 = Node('/')\n",
    "node_7 = Node(9)\n",
    "node_8 = Node(11)"
   ]
  },
  {
   "cell_type": "code",
   "execution_count": 312,
   "id": "712c4675-b7a0-43bd-87cb-d7bc453ef4a7",
   "metadata": {},
   "outputs": [],
   "source": [
    "scll.insertAtBeginning(node_3)\n",
    "scll.insertAtBeginning(node_2)\n",
    "scll.insertAtBeginning(node_1)"
   ]
  },
  {
   "cell_type": "code",
   "execution_count": 313,
   "id": "ca1a04dc-a6b9-46b8-98d2-9e36573eb2d2",
   "metadata": {},
   "outputs": [
    {
     "name": "stdout",
     "output_type": "stream",
     "text": [
      "|     5     | --------> |     7     | --------> |     8     | --------> \n"
     ]
    }
   ],
   "source": [
    "print(scll)"
   ]
  },
  {
   "cell_type": "code",
   "execution_count": 314,
   "id": "ec28a4df-5226-46f7-8f07-8332f784f94e",
   "metadata": {},
   "outputs": [],
   "source": [
    "scll.insertAtEnd(node_7)\n",
    "scll.insertAtEnd(node_8)"
   ]
  },
  {
   "cell_type": "code",
   "execution_count": 315,
   "id": "9a40c77a-463c-4c72-ae5f-327640a02224",
   "metadata": {},
   "outputs": [
    {
     "name": "stdout",
     "output_type": "stream",
     "text": [
      "|     5     | --------> |     7     | --------> |     8     | --------> |     9     | --------> |     11     | --------> \n"
     ]
    }
   ],
   "source": [
    "print(scll)"
   ]
  },
  {
   "cell_type": "code",
   "execution_count": 316,
   "id": "54d6f1a0-a7c3-4b5d-b635-b4c9441d10bb",
   "metadata": {},
   "outputs": [],
   "source": [
    "scll.insertAtPosition(node_4, 3)\n",
    "scll.insertAtPosition(node_5, 4)\n",
    "scll.insertAtPosition(node_6, 5)"
   ]
  },
  {
   "cell_type": "code",
   "execution_count": 317,
   "id": "694283d0-a5b0-4cef-9d8a-17524336f7b0",
   "metadata": {},
   "outputs": [
    {
     "name": "stdout",
     "output_type": "stream",
     "text": [
      "|     5     | --------> |     7     | --------> |     8     | --------> |     1     | --------> |     a     | --------> |     /     | --------> |     9     | --------> |     11     | --------> \n"
     ]
    }
   ],
   "source": [
    "print(scll)"
   ]
  },
  {
   "cell_type": "code",
   "execution_count": 318,
   "id": "d3425987-d947-462d-843a-2d80d27623d4",
   "metadata": {},
   "outputs": [],
   "source": [
    "scll.deleteFromBeginning()"
   ]
  },
  {
   "cell_type": "code",
   "execution_count": 319,
   "id": "0aa54e77-5648-4c2d-897f-d3eb0a97bf02",
   "metadata": {},
   "outputs": [
    {
     "name": "stdout",
     "output_type": "stream",
     "text": [
      "|     7     | --------> |     8     | --------> |     1     | --------> |     a     | --------> |     /     | --------> |     9     | --------> |     11     | --------> \n"
     ]
    }
   ],
   "source": [
    "print(scll)"
   ]
  },
  {
   "cell_type": "code",
   "execution_count": 320,
   "id": "8f0cbffc-a125-45bd-877c-3f391802e69c",
   "metadata": {},
   "outputs": [],
   "source": [
    "scll.deleteFromEnd()"
   ]
  },
  {
   "cell_type": "code",
   "execution_count": 321,
   "id": "2be1cb75-8d81-4c35-9938-ab4b035f39b9",
   "metadata": {},
   "outputs": [
    {
     "name": "stdout",
     "output_type": "stream",
     "text": [
      "|     7     | --------> |     8     | --------> |     1     | --------> |     a     | --------> |     /     | --------> |     9     | --------> \n"
     ]
    }
   ],
   "source": [
    "print(scll)"
   ]
  },
  {
   "cell_type": "code",
   "execution_count": 322,
   "id": "7776adcf-6b31-43cf-9176-395bd410f0e0",
   "metadata": {},
   "outputs": [],
   "source": [
    "scll.deleteFromPosition(4)"
   ]
  },
  {
   "cell_type": "code",
   "execution_count": 323,
   "id": "8601d959-05d7-4847-81d4-583071baf0a2",
   "metadata": {},
   "outputs": [
    {
     "name": "stdout",
     "output_type": "stream",
     "text": [
      "|     7     | --------> |     8     | --------> |     1     | --------> |     a     | --------> |     9     | --------> \n"
     ]
    }
   ],
   "source": [
    "print(scll)"
   ]
  },
  {
   "cell_type": "markdown",
   "id": "3b7663ca-1e45-4dab-97ba-a3712ffe831b",
   "metadata": {},
   "source": [
    "## Doubly Circular Linked List"
   ]
  },
  {
   "cell_type": "code",
   "execution_count": 325,
   "id": "39f6b19b-f850-4aab-8d25-f15cc121dd53",
   "metadata": {},
   "outputs": [],
   "source": [
    "class DoublyCircularLinkedList(DoublyLinkedList):\n",
    "\n",
    "    def __init__(self):\n",
    "        DoublyLinkedList.__init__(self)\n",
    "\n",
    "    def __str__(self):\n",
    "        current_node = self.head\n",
    "        dcll_display_str = ''\n",
    "        \n",
    "        while current_node.next is not self.head:\n",
    "            dcll_display_str += f\"|     {current_node.data}     | --------> \"\n",
    "            current_node = current_node.next\n",
    "        else: \n",
    "            dcll_display_str += f\"|     {current_node.data}     | --------> \"\n",
    "            \n",
    "        return dcll_display_str\n",
    "\n",
    "    def insertAtBeginning(self, node):\n",
    "        if self.head is None and self.tail is None:\n",
    "            self.head = node\n",
    "            self.head.next = node\n",
    "            self.head.prev = node\n",
    "            self.tail = self.head\n",
    "        elif self.head == self.tail:\n",
    "            current_head = self.head            \n",
    "            \n",
    "            node.prev = current_head\n",
    "            node.next = current_head\n",
    "\n",
    "            current_head.prev = node\n",
    "            current_head.next = node\n",
    "\n",
    "            self.head = node\n",
    "        else:\n",
    "            current_head = self.head            \n",
    "            \n",
    "            node.prev = current_head.prev\n",
    "            node.next = current_head\n",
    "            \n",
    "            node.prev.next = node\n",
    "\n",
    "            current_head.prev = node\n",
    "\n",
    "            self.head = node\n",
    "                    \n",
    "    def insertAtEnd(self, node):\n",
    "        if self.head is None and self.tail is None:\n",
    "            self.head = node\n",
    "            self.head.next = node\n",
    "            self.head.prev = node\n",
    "            self.tail = self.head\n",
    "        elif self.head == self.tail:\n",
    "            current_tail = self.tail\n",
    "            \n",
    "            node.prev = current_tail\n",
    "            node.next = current_tail\n",
    "\n",
    "            current_tail.prev = node\n",
    "            current_tail.next = node\n",
    "\n",
    "            self.tail = node\n",
    "        else:\n",
    "            current_tail = self.tail\n",
    "            \n",
    "            node.prev = current_tail\n",
    "            node.next = current_tail.next\n",
    "            \n",
    "            node.next.prev = node\n",
    "\n",
    "            current_tail.next = node\n",
    "\n",
    "            self.tail = node\n",
    "\n",
    "    def deleteFromBeginning(self):\n",
    "        if self.head is None and self.tail is None:\n",
    "            print(\"Linked List is Empty!\")\n",
    "        elif self.head == self.tail:\n",
    "            self.head = self.tail = None\n",
    "        else:\n",
    "            node_to_delete = self.head\n",
    "            node_to_delete.prev.next = node_to_delete.next\n",
    "            node_to_delete.next.prev = node_to_delete.prev\n",
    "            self.head = self.head.next\n",
    "            node_to_delete.next = None\n",
    "            node_to_delete.prev = None\n",
    "            node_to_delete = None\n",
    "\n",
    "    def deleteFromEnd(self):\n",
    "        if self.head is None and self.tail is None:\n",
    "            print(\"Linked List is Empty!\")\n",
    "        elif self.head == self.tail:\n",
    "            self.head = self.tail = None\n",
    "        else:\n",
    "            node_to_delete = self.tail\n",
    "            node_to_delete.prev.next = node_to_delete.next\n",
    "            node_to_delete.next.prev = node_to_delete.prev\n",
    "            self.tail = self.tail.prev\n",
    "            node_to_delete.next = None\n",
    "            node_to_delete.prev = None\n",
    "            node_to_delete = None"
   ]
  },
  {
   "cell_type": "code",
   "execution_count": 326,
   "id": "c4e71744-9349-4534-bbd7-7eb9f4e0dc8b",
   "metadata": {},
   "outputs": [],
   "source": [
    "dcll = DoublyCircularLinkedList()"
   ]
  },
  {
   "cell_type": "code",
   "execution_count": 327,
   "id": "906efa90-3faa-4ff2-ace6-6563d7a8fa5b",
   "metadata": {},
   "outputs": [],
   "source": [
    "node_1 = Node(5, 'D')\n",
    "node_2 = Node(7, 'D')\n",
    "node_3 = Node(8, 'D')\n",
    "node_4 = Node(1, 'D')\n",
    "node_5 = Node('a', 'D')\n",
    "node_6 = Node('/', 'D')\n",
    "node_7 = Node(9, 'D')\n",
    "node_8 = Node(11, 'D')"
   ]
  },
  {
   "cell_type": "code",
   "execution_count": 328,
   "id": "82d8b1dc-37f0-45e7-b780-5564e2e98d46",
   "metadata": {},
   "outputs": [],
   "source": [
    "dcll.insertAtBeginning(node_3)\n",
    "dcll.insertAtBeginning(node_2)\n",
    "dcll.insertAtBeginning(node_1)"
   ]
  },
  {
   "cell_type": "code",
   "execution_count": 329,
   "id": "08b02d6f-7d17-41aa-8945-36c926b9e440",
   "metadata": {},
   "outputs": [
    {
     "name": "stdout",
     "output_type": "stream",
     "text": [
      "|     5     | --------> |     7     | --------> |     8     | --------> \n"
     ]
    }
   ],
   "source": [
    "print(dcll)"
   ]
  },
  {
   "cell_type": "code",
   "execution_count": 330,
   "id": "cfc96441-03ab-4d37-9102-d0ccef5d2c80",
   "metadata": {},
   "outputs": [
    {
     "data": {
      "text/plain": [
       "7"
      ]
     },
     "execution_count": 330,
     "metadata": {},
     "output_type": "execute_result"
    }
   ],
   "source": [
    "dcll.head.next.data"
   ]
  },
  {
   "cell_type": "code",
   "execution_count": 331,
   "id": "adb92863-04aa-4eb9-ad32-46edd3004fc8",
   "metadata": {},
   "outputs": [],
   "source": [
    "dcll.insertAtEnd(node_7)\n",
    "dcll.insertAtEnd(node_8)"
   ]
  },
  {
   "cell_type": "code",
   "execution_count": 332,
   "id": "1ceb678a-ccfe-4765-a76c-4fe44fce3afa",
   "metadata": {},
   "outputs": [
    {
     "name": "stdout",
     "output_type": "stream",
     "text": [
      "|     5     | --------> |     7     | --------> |     8     | --------> |     9     | --------> |     11     | --------> \n"
     ]
    }
   ],
   "source": [
    "print(dcll)"
   ]
  },
  {
   "cell_type": "code",
   "execution_count": 333,
   "id": "a40438b9-a2da-4648-af82-e9ddc4b88454",
   "metadata": {},
   "outputs": [],
   "source": [
    "dcll.insertAtPosition(node_4, 3)\n",
    "dcll.insertAtPosition(node_5, -3)\n",
    "dcll.insertAtPosition(node_6, -3)"
   ]
  },
  {
   "cell_type": "code",
   "execution_count": 334,
   "id": "a43c881a-102e-4242-92a1-f7e652f8ce02",
   "metadata": {},
   "outputs": [
    {
     "name": "stdout",
     "output_type": "stream",
     "text": [
      "|     5     | --------> |     7     | --------> |     8     | --------> |     1     | --------> |     a     | --------> |     /     | --------> |     9     | --------> |     11     | --------> \n"
     ]
    }
   ],
   "source": [
    "print(dcll)"
   ]
  },
  {
   "cell_type": "code",
   "execution_count": 335,
   "id": "1b6089db-c07e-43c8-81e8-20f0b142b3d4",
   "metadata": {},
   "outputs": [],
   "source": [
    "dcll.deleteFromBeginning()"
   ]
  },
  {
   "cell_type": "code",
   "execution_count": 336,
   "id": "c62a7169-33ce-4a8e-997a-e015b9f4ef0f",
   "metadata": {},
   "outputs": [
    {
     "name": "stdout",
     "output_type": "stream",
     "text": [
      "|     7     | --------> |     8     | --------> |     1     | --------> |     a     | --------> |     /     | --------> |     9     | --------> |     11     | --------> \n"
     ]
    }
   ],
   "source": [
    "print(dcll)"
   ]
  },
  {
   "cell_type": "code",
   "execution_count": 337,
   "id": "5070b931-5a5e-454b-8d2c-2efa9a9cd7fb",
   "metadata": {},
   "outputs": [],
   "source": [
    "dcll.deleteFromEnd()"
   ]
  },
  {
   "cell_type": "code",
   "execution_count": 338,
   "id": "c7b807ba-b89d-4741-a1df-beee892b19dd",
   "metadata": {},
   "outputs": [
    {
     "name": "stdout",
     "output_type": "stream",
     "text": [
      "|     7     | --------> |     8     | --------> |     1     | --------> |     a     | --------> |     /     | --------> |     9     | --------> \n"
     ]
    }
   ],
   "source": [
    "print(dcll)"
   ]
  },
  {
   "cell_type": "code",
   "execution_count": 339,
   "id": "8b1e1bdc-18d0-410d-b634-9571e0995456",
   "metadata": {},
   "outputs": [],
   "source": [
    "dcll.deleteFromPosition(4)"
   ]
  },
  {
   "cell_type": "code",
   "execution_count": 340,
   "id": "e053272a-1869-4b0a-896b-bd2a976875e6",
   "metadata": {},
   "outputs": [
    {
     "name": "stdout",
     "output_type": "stream",
     "text": [
      "|     7     | --------> |     8     | --------> |     1     | --------> |     a     | --------> |     9     | --------> \n"
     ]
    }
   ],
   "source": [
    "print(dcll)"
   ]
  },
  {
   "cell_type": "code",
   "execution_count": 341,
   "id": "2c4d6987-3e4d-4f4a-a3ac-ad1a83d7cf49",
   "metadata": {},
   "outputs": [],
   "source": [
    "dcll.deleteFromPosition(3)"
   ]
  },
  {
   "cell_type": "code",
   "execution_count": 342,
   "id": "03ff9979-bd52-4adc-bbcc-753a84a41cb4",
   "metadata": {},
   "outputs": [
    {
     "name": "stdout",
     "output_type": "stream",
     "text": [
      "|     7     | --------> |     8     | --------> |     1     | --------> |     9     | --------> \n"
     ]
    }
   ],
   "source": [
    "print(dcll)"
   ]
  },
  {
   "cell_type": "code",
   "execution_count": 343,
   "id": "20d515d9-d71e-4d8a-a0f4-bc2c02dc77a0",
   "metadata": {},
   "outputs": [],
   "source": [
    "dcll.deleteFromPosition(-3)"
   ]
  },
  {
   "cell_type": "code",
   "execution_count": 344,
   "id": "ea350d15-1059-4ffe-a10b-fd4bd11c88c4",
   "metadata": {},
   "outputs": [
    {
     "name": "stdout",
     "output_type": "stream",
     "text": [
      "|     7     | --------> |     1     | --------> |     9     | --------> \n"
     ]
    }
   ],
   "source": [
    "print(dcll)"
   ]
  }
 ],
 "metadata": {
  "kernelspec": {
   "display_name": "Python 3 (ipykernel)",
   "language": "python",
   "name": "python3"
  },
  "language_info": {
   "codemirror_mode": {
    "name": "ipython",
    "version": 3
   },
   "file_extension": ".py",
   "mimetype": "text/x-python",
   "name": "python",
   "nbconvert_exporter": "python",
   "pygments_lexer": "ipython3",
   "version": "3.12.3"
  }
 },
 "nbformat": 4,
 "nbformat_minor": 5
}
