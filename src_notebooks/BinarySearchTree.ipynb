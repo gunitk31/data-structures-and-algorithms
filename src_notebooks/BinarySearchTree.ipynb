{
 "cells": [
  {
   "cell_type": "code",
   "execution_count": 999,
   "id": "39d3be7e-391b-4e32-8b2f-0224b96cf507",
   "metadata": {},
   "outputs": [],
   "source": [
    "class BSTNode:\n",
    "    def __init__(self, data):\n",
    "        self.data = data\n",
    "        self.left = None\n",
    "        self.right = None\n",
    "        self.parent = None"
   ]
  },
  {
   "cell_type": "code",
   "execution_count": 1000,
   "id": "b6fe761e-ef43-4bd7-8c8b-fadd4fe73691",
   "metadata": {},
   "outputs": [],
   "source": [
    "class BinarySearchTree:\n",
    "    def __init__(self, data):\n",
    "        node = BSTNode(data)\n",
    "        self.root = node\n",
    "\n",
    "    def show_tree(self, parent, level = 0, prefix = \" --> \"):\n",
    "        if parent is not None:\n",
    "            print(f\"{level}{prefix}{parent.data}\")\n",
    "            if parent.left is not None:\n",
    "                prefix = \" \" + ''.join([\"-\"]*((level+1)*5)) + \"> L: \"\n",
    "                self.show_tree(parent.left, level + 1, prefix)\n",
    "            if parent.right is not None:\n",
    "                prefix = \" \" + ''.join([\"-\"]*((level+1)*5)) + \"> R: \"\n",
    "                self.show_tree(parent.right, level + 1, prefix)\n",
    "\n",
    "    def traverse_preorder(self, parent):\n",
    "        if parent is None:\n",
    "            return []\n",
    "\n",
    "        return [parent] + self.traverse_postorder(parent.left) + self.traverse_postorder(parent.right)\n",
    "\n",
    "    def traverse_inorder(self, parent):\n",
    "        if parent is None:\n",
    "            return []\n",
    "\n",
    "        return self.traverse_inorder(parent.left) + [parent] + self.traverse_inorder(parent.right)\n",
    "\n",
    "    def traverse_postorder(self, parent):\n",
    "        if parent is None:\n",
    "            return []\n",
    "\n",
    "        return self.traverse_postorder(parent.left) + self.traverse_postorder(parent.right) + [parent]\n",
    "            \n",
    "    def insert(self, data, parent = None):\n",
    "        node = BSTNode(data)\n",
    "        if self.root is None:\n",
    "            self.root = node\n",
    "        else:\n",
    "            if node.data <= parent.data:\n",
    "                if parent.left is None:\n",
    "                    node.parent = parent\n",
    "                    parent.left = node\n",
    "                else:\n",
    "                    self.insert(data, parent.left)\n",
    "            else:\n",
    "                if parent.right is None:\n",
    "                    node.parent = parent\n",
    "                    parent.right = node\n",
    "                else:\n",
    "                    self.insert(data, parent.right)\n",
    "\n",
    "    def delete(self, data, curr_node):\n",
    "        if data == curr_node.data:\n",
    "            if curr_node.left is None and curr_node.right is None:\n",
    "                if curr_node.parent.right == curr_node:\n",
    "                    curr_node.parent.right = None\n",
    "                else:\n",
    "                    curr_node.parent.left = None\n",
    "                del curr_node\n",
    "            elif curr_node.left is not None and curr_node.right is None:\n",
    "                curr_node.left.parent = curr_node.parent\n",
    "                if curr_node.parent.right == curr_node:\n",
    "                    curr_node.parent.right = curr_node.left\n",
    "                else:\n",
    "                    curr_node.parent.left = curr_node.left\n",
    "            elif curr_node.left is None and curr_node.right is not None:\n",
    "                curr_node.right.parent = curr_node.parent\n",
    "                if curr_node.parent.right == curr_node:\n",
    "                    curr_node.parent.right = curr_node.right\n",
    "                else:\n",
    "                    curr_node.parent.left = curr_node.right\n",
    "            else:\n",
    "                max_value_node = self.traverse_inorder(curr_node.left)[-1]\n",
    "                curr_node.data = max_value_node.data\n",
    "                self.delete(max_value_node.data, curr_node.left)\n",
    "        else:\n",
    "            if data <= curr_node.data:\n",
    "                self.delete(data, curr_node.left)\n",
    "            else:\n",
    "                self.delete(data, curr_node.right)\n",
    "            \n",
    "    def get_left_height(self, parent):\n",
    "        if parent.left is not None and parent.right is not None:\n",
    "            if parent.left.left is None and parent.left.right is None and parent.right.left is not None:\n",
    "                return 1 + self.get_left_height(parent.right)\n",
    "            else:\n",
    "                return 1 + self.get_left_height(parent.left)\n",
    "        elif parent.left is not None and parent.right is None:\n",
    "            return 1 + self.get_left_height(parent.left)\n",
    "        elif parent.left is None and parent.right is not None:\n",
    "            return 1 + self.get_left_height(parent.right)\n",
    "        else:\n",
    "            return 1\n",
    "\n",
    "    def get_right_height(self, parent):\n",
    "        if parent.left is not None and parent.right is not None:\n",
    "            if parent.right.left is None and parent.right.right is None and parent.left.right is not None:\n",
    "                return 1 + self.get_right_height(parent.left)\n",
    "            else:\n",
    "                return 1 + self.get_right_height(parent.right)\n",
    "        elif parent.left is not None and parent.right is None:\n",
    "            return 1 + self.get_right_height(parent.left)\n",
    "        elif parent.left is None and parent.right is not None:\n",
    "            return 1 + self.get_right_height(parent.right)\n",
    "        else:\n",
    "            return 1\n",
    "\n",
    "    def get_height(self, parent):\n",
    "        if parent.left is None and parent.right is None:\n",
    "            return 0, 0\n",
    "        else:\n",
    "            return self.get_left_height(parent.left), self.get_right_height(parent.right)\n",
    "\n",
    "    def is_avl(self):\n",
    "        for node in self.traverse_inorder(self.root):\n",
    "            node_left_height, node_right_height = self.get_height(node)\n",
    "            if node_left_height - node_right_height not in [-1, 0, 1]:\n",
    "                return False\n",
    "\n",
    "        return True"
   ]
  },
  {
   "cell_type": "code",
   "execution_count": 1001,
   "id": "0981b29e-31a4-49d7-9af7-bd3dc7a88fd8",
   "metadata": {},
   "outputs": [],
   "source": [
    "bstree = BinarySearchTree(35)"
   ]
  },
  {
   "cell_type": "code",
   "execution_count": 1002,
   "id": "8087d02b-cac9-400f-b8b3-1de9d7a83461",
   "metadata": {},
   "outputs": [],
   "source": [
    "bstree.insert(31, bstree.root)\n",
    "bstree.insert(46, bstree.root)\n",
    "bstree.insert(37, bstree.root)\n",
    "bstree.insert(25, bstree.root)\n",
    "bstree.insert(34, bstree.root)\n",
    "bstree.insert(21, bstree.root)\n",
    "bstree.insert(29, bstree.root)\n",
    "bstree.insert(68, bstree.root)\n",
    "bstree.insert(39, bstree.root)\n",
    "bstree.insert(28, bstree.root)\n",
    "bstree.insert(26, bstree.root)\n",
    "bstree.insert(27, bstree.root)\n",
    "bstree.insert(38, bstree.root)"
   ]
  },
  {
   "cell_type": "code",
   "execution_count": 1003,
   "id": "065bb9a5-9717-421b-9bcc-c722f13c7420",
   "metadata": {},
   "outputs": [
    {
     "name": "stdout",
     "output_type": "stream",
     "text": [
      "0 --> 35\n",
      "1 -----> L: 31\n",
      "2 ----------> L: 25\n",
      "3 ---------------> L: 21\n",
      "3 ---------------> R: 29\n",
      "4 --------------------> L: 28\n",
      "5 -------------------------> L: 26\n",
      "6 ------------------------------> R: 27\n",
      "2 ----------> R: 34\n",
      "1 -----> R: 46\n",
      "2 ----------> L: 37\n",
      "3 ---------------> R: 39\n",
      "4 --------------------> L: 38\n",
      "2 ----------> R: 68\n"
     ]
    }
   ],
   "source": [
    "bstree.show_tree(bstree.root)"
   ]
  },
  {
   "cell_type": "code",
   "execution_count": 1004,
   "id": "bf9d758f-c9e7-4aa7-bbb4-2e93c5a0dc8f",
   "metadata": {},
   "outputs": [],
   "source": [
    "root_left_height, root_right_height = bstree.get_height(bstree.root)"
   ]
  },
  {
   "cell_type": "code",
   "execution_count": 1005,
   "id": "e6f91dd5-6cd4-40b2-92c7-2acf396f077f",
   "metadata": {},
   "outputs": [
    {
     "name": "stdout",
     "output_type": "stream",
     "text": [
      "Height of left subtree with root 35 is 6\n",
      "Height of right subtree with root 35 is 4\n"
     ]
    }
   ],
   "source": [
    "print(f\"Height of left subtree with root {bstree.root.data} is {root_left_height}\")\n",
    "print(f\"Height of right subtree with root {bstree.root.data} is {root_right_height}\")"
   ]
  },
  {
   "cell_type": "code",
   "execution_count": 1006,
   "id": "2b068f95-a3eb-4bfe-8816-737675b34100",
   "metadata": {},
   "outputs": [],
   "source": [
    "root_left_left_height, root_left_right_height = bstree.get_height(bstree.root.left)"
   ]
  },
  {
   "cell_type": "code",
   "execution_count": 1007,
   "id": "4b4af1b5-6bcb-4518-9a19-9e1d9516ed46",
   "metadata": {},
   "outputs": [
    {
     "name": "stdout",
     "output_type": "stream",
     "text": [
      "Height of left subtree with root 31 is 5\n",
      "Height of right subtree with root 31 is 1\n"
     ]
    }
   ],
   "source": [
    "print(f\"Height of left subtree with root {bstree.root.left.data} is {root_left_left_height}\")\n",
    "print(f\"Height of right subtree with root {bstree.root.left.data} is {root_left_right_height}\")"
   ]
  },
  {
   "cell_type": "code",
   "execution_count": 1008,
   "id": "ef072b27-e847-44da-a91b-0f88b25b0b49",
   "metadata": {},
   "outputs": [
    {
     "name": "stdout",
     "output_type": "stream",
     "text": [
      "This Binary Search Tree is not an AVL Tree\n"
     ]
    }
   ],
   "source": [
    "if bstree.is_avl():\n",
    "    print(\"This Binary Search Tree is an AVL Tree\")\n",
    "else:\n",
    "    print(\"This Binary Search Tree is not an AVL Tree\")"
   ]
  },
  {
   "cell_type": "code",
   "execution_count": 1009,
   "id": "f91b0c89-8456-41ac-b69c-8d58dd3bb385",
   "metadata": {},
   "outputs": [
    {
     "data": {
      "text/plain": [
       "'35 --- 21 --- 27 --- 26 --- 28 --- 29 --- 25 --- 34 --- 31 --- 38 --- 39 --- 37 --- 68 --- 46'"
      ]
     },
     "execution_count": 1009,
     "metadata": {},
     "output_type": "execute_result"
    }
   ],
   "source": [
    "\" --- \".join([str(node.data) for node in bstree.traverse_preorder(bstree.root)])"
   ]
  },
  {
   "cell_type": "code",
   "execution_count": 1010,
   "id": "d23afd8e-3cc4-480b-904c-a8b0f8b3de5e",
   "metadata": {},
   "outputs": [
    {
     "data": {
      "text/plain": [
       "'21 --- 25 --- 26 --- 27 --- 28 --- 29 --- 31 --- 34 --- 35 --- 37 --- 38 --- 39 --- 46 --- 68'"
      ]
     },
     "execution_count": 1010,
     "metadata": {},
     "output_type": "execute_result"
    }
   ],
   "source": [
    "\" --- \".join([str(node.data) for node in bstree.traverse_inorder(bstree.root)])"
   ]
  },
  {
   "cell_type": "code",
   "execution_count": 1011,
   "id": "da4d8a87-4015-4e2a-8958-ae33390e053a",
   "metadata": {},
   "outputs": [
    {
     "data": {
      "text/plain": [
       "'21 --- 27 --- 26 --- 28 --- 29 --- 25 --- 34 --- 31 --- 38 --- 39 --- 37 --- 68 --- 46 --- 35'"
      ]
     },
     "execution_count": 1011,
     "metadata": {},
     "output_type": "execute_result"
    }
   ],
   "source": [
    "\" --- \".join([str(node.data) for node in bstree.traverse_postorder(bstree.root)])"
   ]
  },
  {
   "cell_type": "code",
   "execution_count": 1012,
   "id": "5ab3b2b4-6c0b-4256-9556-0a9feb16c853",
   "metadata": {},
   "outputs": [],
   "source": [
    "bstree.delete(38, bstree.root)"
   ]
  },
  {
   "cell_type": "code",
   "execution_count": 1013,
   "id": "3434dc0e-e9dc-49c3-8b1d-9135b8e5f355",
   "metadata": {},
   "outputs": [
    {
     "name": "stdout",
     "output_type": "stream",
     "text": [
      "0 --> 35\n",
      "1 -----> L: 31\n",
      "2 ----------> L: 25\n",
      "3 ---------------> L: 21\n",
      "3 ---------------> R: 29\n",
      "4 --------------------> L: 28\n",
      "5 -------------------------> L: 26\n",
      "6 ------------------------------> R: 27\n",
      "2 ----------> R: 34\n",
      "1 -----> R: 46\n",
      "2 ----------> L: 37\n",
      "3 ---------------> R: 39\n",
      "2 ----------> R: 68\n"
     ]
    }
   ],
   "source": [
    "bstree.show_tree(bstree.root)"
   ]
  },
  {
   "cell_type": "code",
   "execution_count": 1014,
   "id": "648c65e8-0da9-416a-913d-d26e643cd71b",
   "metadata": {},
   "outputs": [],
   "source": [
    "bstree.delete(26, bstree.root)"
   ]
  },
  {
   "cell_type": "code",
   "execution_count": 1015,
   "id": "4a6602d0-03f0-490f-98e1-104a8e88b9a5",
   "metadata": {},
   "outputs": [
    {
     "name": "stdout",
     "output_type": "stream",
     "text": [
      "0 --> 35\n",
      "1 -----> L: 31\n",
      "2 ----------> L: 25\n",
      "3 ---------------> L: 21\n",
      "3 ---------------> R: 29\n",
      "4 --------------------> L: 28\n",
      "5 -------------------------> L: 27\n",
      "2 ----------> R: 34\n",
      "1 -----> R: 46\n",
      "2 ----------> L: 37\n",
      "3 ---------------> R: 39\n",
      "2 ----------> R: 68\n"
     ]
    }
   ],
   "source": [
    "bstree.show_tree(bstree.root)"
   ]
  },
  {
   "cell_type": "code",
   "execution_count": 1016,
   "id": "27f1093c-8aba-47a9-9c8b-a4ec3170fe0b",
   "metadata": {},
   "outputs": [],
   "source": [
    "bstree.delete(31, bstree.root)"
   ]
  },
  {
   "cell_type": "code",
   "execution_count": 1017,
   "id": "de5ac91b-c90e-4301-8c2a-bf430382db4f",
   "metadata": {},
   "outputs": [
    {
     "name": "stdout",
     "output_type": "stream",
     "text": [
      "0 --> 35\n",
      "1 -----> L: 29\n",
      "2 ----------> L: 25\n",
      "3 ---------------> L: 21\n",
      "3 ---------------> R: 28\n",
      "4 --------------------> L: 27\n",
      "2 ----------> R: 34\n",
      "1 -----> R: 46\n",
      "2 ----------> L: 37\n",
      "3 ---------------> R: 39\n",
      "2 ----------> R: 68\n"
     ]
    }
   ],
   "source": [
    "bstree.show_tree(bstree.root)"
   ]
  }
 ],
 "metadata": {
  "kernelspec": {
   "display_name": "Python 3 (ipykernel)",
   "language": "python",
   "name": "python3"
  },
  "language_info": {
   "codemirror_mode": {
    "name": "ipython",
    "version": 3
   },
   "file_extension": ".py",
   "mimetype": "text/x-python",
   "name": "python",
   "nbconvert_exporter": "python",
   "pygments_lexer": "ipython3",
   "version": "3.12.3"
  }
 },
 "nbformat": 4,
 "nbformat_minor": 5
}
